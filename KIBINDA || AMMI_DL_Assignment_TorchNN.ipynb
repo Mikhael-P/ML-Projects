{
 "cells": [
  {
   "cell_type": "markdown",
   "metadata": {
    "id": "PAkBSdTvq0Cr"
   },
   "source": [
    "<img src='http://sn.nexteinstein.org/wp-content/uploads/sites/12/2016/07/aims_senegal.jpg' />"
   ]
  },
  {
   "cell_type": "markdown",
   "metadata": {
    "id": "TSBZZYqgq2Su"
   },
   "source": [
    "In this notebook you will implement and train a feed-forward neural network using the torch.nn module to solve a multi-class classification problem on a dataset called \"Fashion MNIST\".\n",
    "\n",
    "---\n",
    "\n",
    "***Learning Objectives:***\n",
    "\n",
    "* Understand how to use Pytorch nn module and the sequential container to build a neural network architecture.\n",
    "\n",
    "\n",
    "* Understand how a model is trained using the opitm module and the Autgrad engine and How to evaluate your model.\n",
    "\n",
    "---\n",
    "\n",
    "**Resources that you need to cover before starting**:\n",
    "\n",
    "* Review the Tutorial Notebook.\n",
    "\n",
    "* Read the torch.nn docs: https://pytorch.org/docs/stable/nn.html\n",
    "\n",
    "* Read the article about moving from computing gradient from scratch to useing torch.nn https://pytorch.org/tutorials/beginner/nn_tutorial.html\n",
    "\n",
    "* Read the pytorch offical tutorial on training multi-class classifiers:\n",
    "https://pytorch.org/tutorials/beginner/blitz/cifar10_tutorial.html"
   ]
  },
  {
   "cell_type": "markdown",
   "metadata": {
    "id": "i4ngU0vOrd68"
   },
   "source": [
    "# Setup code (Read first But Don't modify)"
   ]
  },
  {
   "cell_type": "code",
   "execution_count": 267,
   "metadata": {
    "id": "NljcxD0Estne"
   },
   "outputs": [],
   "source": [
    "import torch\n",
    "import torch.nn as nn\n",
    "import torch.nn.functional as F\n",
    "import torch.optim as optim\n",
    "\n",
    "import torchvision\n",
    "import torchvision.datasets as datasets\n",
    "\n",
    "import matplotlib.pyplot as plt\n",
    "%matplotlib inline"
   ]
  },
  {
   "cell_type": "markdown",
   "metadata": {
    "id": "MygxOwpX-H4f"
   },
   "source": [
    "\n",
    "\n",
    "---\n",
    "\n"
   ]
  },
  {
   "cell_type": "markdown",
   "metadata": {
    "id": "BQKtRDqBz3gT"
   },
   "source": [
    "#### Loading the Data: \n",
    "\n",
    "We will use the Fashion MNIST dataset consisting of 70,000 greyscale images of shape(28x28 flattened to have shape 784) and their labels.\n",
    "\n",
    "The dataset is divided into 60,000 training images and 10,000 test images. The idea is to train a classifier to identify the class value (what type of fashion item it is) given the image (total of **10** classes).\n",
    "\n",
    "We will split the training data into 50,000 training images used to train a model on it, and 10,000 validation images used to tune your choice of hyperparams and model architecture.\n",
    "\n",
    "The last step is to evaluate how well your model classifies the 10,000 test images (will be used to assess your implementation).\n",
    "\n",
    "\n",
    "**The classes are: ['T-shirt/top', 'Trouser', 'Pullover', 'Dress', 'Coat', 'Sandal', 'Shirt', 'Sneaker', 'Bag', 'Ankle boot']**\n",
    "\n",
    "This is how the 10 class images looks like before flattening it:\n",
    "\n",
    "<img src='https://www.googleapis.com/download/storage/v1/b/kaggle-user-content/o/inbox%2F549262%2Fd6f4f6e13fa211c9e773479566d89ac9%2FExample-for-fashion-MNIST-Each-class-is-represented-by-nine-cases.png?generation=1576784453715625&alt=media' />"
   ]
  },
  {
   "cell_type": "markdown",
   "metadata": {
    "id": "JyVLHX__-Jws"
   },
   "source": [
    "\n",
    "\n",
    "---\n",
    "\n"
   ]
  },
  {
   "cell_type": "code",
   "execution_count": 268,
   "metadata": {
    "id": "mX1jXWxtweco"
   },
   "outputs": [],
   "source": [
    "#get the data\n",
    "\n",
    "def load_data():\n",
    "    \n",
    "    #using the dataset module from torchvision\n",
    "    mnist_train_set = datasets.FashionMNIST('data/fashiomnist/', train = True, download = True)\n",
    "    mnist_test_set = datasets.FashionMNIST('data/fashiomnist/', train = False, download = True)\n",
    "\n",
    "    #train data\n",
    "    train_images = mnist_train_set.data.view(-1, 1, 28, 28).float()\n",
    "    train_targets = mnist_train_set.targets\n",
    "\n",
    "    #test data\n",
    "    test_images = mnist_test_set.data.view(-1, 1, 28, 28).float()\n",
    "    y_test = mnist_test_set.targets\n",
    "\n",
    "    #flatten\n",
    "    train_val_input = train_images.clone().reshape(train_images.size(0), -1)/255.0\n",
    "    x_test = test_images.clone().reshape(test_images.size(0), -1)/255.0\n",
    "\n",
    "    # shuffle\n",
    "    N = train_val_input.shape[0]\n",
    "    index = torch.randperm(N)\n",
    "\n",
    "    #train val split\n",
    "    x_train = train_val_input[index][:50000]\n",
    "    y_train = train_targets[index][:50000]\n",
    "\n",
    "    x_val = train_val_input[index][50000:]\n",
    "    y_val = train_targets[index][50000:]\n",
    "\n",
    "    return x_train, y_train, x_val, y_val, x_test, y_test"
   ]
  },
  {
   "cell_type": "code",
   "execution_count": 269,
   "metadata": {
    "id": "cmO0FsLnYxpJ"
   },
   "outputs": [],
   "source": [
    "x_train, y_train, x_val, y_val, _, __ = load_data()"
   ]
  },
  {
   "cell_type": "code",
   "execution_count": 270,
   "metadata": {
    "colab": {
     "base_uri": "https://localhost:8080/"
    },
    "id": "iHajRlnh8ZBe",
    "outputId": "8224dbac-523c-448e-a287-9cc13f8a1357"
   },
   "outputs": [
    {
     "name": "stdout",
     "output_type": "stream",
     "text": [
      "train data shape:  torch.Size([50000, 784])\n",
      "train targets shape:  torch.Size([50000])\n",
      " \n",
      "validation data shape:  torch.Size([10000, 784])\n",
      "Validation targets shape:  torch.Size([10000])\n"
     ]
    }
   ],
   "source": [
    "print('train data shape: ', x_train.shape)\n",
    "print('train targets shape: ', y_train.shape)\n",
    "print(' ')\n",
    "print('validation data shape: ', x_val.shape)\n",
    "print('Validation targets shape: ', y_val.shape)"
   ]
  },
  {
   "cell_type": "markdown",
   "metadata": {
    "id": "1qVF8ZdO-MkE"
   },
   "source": [
    "\n",
    "\n",
    "---\n",
    "\n",
    "\n",
    "\n",
    "---\n",
    "\n"
   ]
  },
  {
   "cell_type": "markdown",
   "metadata": {
    "id": "ZpfIjcho6PIV"
   },
   "source": [
    "#### We will be using gpus to accelerate the training. make sure to change your runtime to use a *gpu*.\n",
    "\n",
    "#### go to Runtime ===> Change Runtime Type ===> Hardware accelerator ===> choose (GPU)\n"
   ]
  },
  {
   "cell_type": "code",
   "execution_count": 271,
   "metadata": {
    "colab": {
     "base_uri": "https://localhost:8080/"
    },
    "id": "GA5llWY9te4E",
    "outputId": "25f561dd-f7d9-40e2-9166-fb68bbc9d2ab"
   },
   "outputs": [
    {
     "name": "stdout",
     "output_type": "stream",
     "text": [
      "using device: cpu\n"
     ]
    }
   ],
   "source": [
    "if torch.cuda.is_available():\n",
    "    \n",
    "    device = torch.device('cuda:0')\n",
    "    \n",
    "else:\n",
    "    \n",
    "    device = torch.device('cpu')\n",
    "    \n",
    "print('using device:', device)"
   ]
  },
  {
   "cell_type": "markdown",
   "metadata": {
    "id": "HZgAMtBSZHqA"
   },
   "source": [
    "Note that every tensor in pytorch has a **.device** attribute By default it's set to 'cpu' But it can be changed to 'gpu' using the **'.to'** command:"
   ]
  },
  {
   "cell_type": "code",
   "execution_count": 272,
   "metadata": {
    "colab": {
     "base_uri": "https://localhost:8080/"
    },
    "id": "La4h7iZnZbiR",
    "outputId": "3364c342-c111-476c-ef2b-62d4d1ef4a6b"
   },
   "outputs": [
    {
     "name": "stdout",
     "output_type": "stream",
     "text": [
      "cpu\n",
      "cpu\n"
     ]
    }
   ],
   "source": [
    "# toy example \n",
    "a = torch.rand(2,3)\n",
    "print(a.device) # by default it's 'cpu'\n",
    "\n",
    "a = a.to(device = device)\n",
    "print(a.device) # should print 'cuda:0'"
   ]
  },
  {
   "cell_type": "markdown",
   "metadata": {
    "id": "NN2tXNtr9-vX"
   },
   "source": [
    "---\n",
    "---\n",
    "---\n",
    "---\n",
    "---"
   ]
  },
  {
   "cell_type": "markdown",
   "metadata": {
    "id": "Zk-ExNrjaAU5"
   },
   "source": [
    "Now it's your turn to define a model using the **torch.nn.Sequential** container module.\n",
    "\n",
    "Your model should accept an input of shape D = 784 and output 10 numbers represent the probability of belonging to each class.\n",
    "\n",
    "ideally a good model will have at least one hidden layer (or more) followed by non-linear activation functions like (nn.ReLU, nn.Sigmoid ... etc) \n",
    "\n",
    "\n",
    "you can take some help from the docs: \n",
    "https://pytorch.org/docs/stable/generated/torch.nn.Sequential.html "
   ]
  },
  {
   "cell_type": "code",
   "execution_count": 273,
   "metadata": {
    "id": "2IqWt4DHtf_O"
   },
   "outputs": [],
   "source": [
    "# define a neural network model using the nn.Sequential container\n",
    "\n",
    "D = x_train.shape[1]\n",
    "\n",
    "n_classes = 10\n",
    "\n",
    "h_1, h_2, h_3 = 256, 128, 64\n",
    "\n",
    "model = nn.Sequential(\n",
    "        nn.Linear(D, h_1),\n",
    "        nn.ReLU(),\n",
    "\n",
    "        nn.Linear(h_1, h_2),\n",
    "        nn.Sigmoid(),\n",
    "        \n",
    "        nn.Linear(h_2, h_3),\n",
    "        nn.ReLU(),\n",
    "        \n",
    "        nn.Linear(h_3, n_classes)\n",
    ")"
   ]
  },
  {
   "cell_type": "code",
   "execution_count": null,
   "metadata": {
    "id": "ln-xxBw5M388"
   },
   "outputs": [],
   "source": []
  },
  {
   "cell_type": "code",
   "execution_count": 274,
   "metadata": {
    "colab": {
     "base_uri": "https://localhost:8080/"
    },
    "id": "e7-cOz-vcKM0",
    "outputId": "f63f30ba-861c-4f31-99e1-d45bdae0bca7"
   },
   "outputs": [
    {
     "name": "stdout",
     "output_type": "stream",
     "text": [
      "Sequential(\n",
      "  (0): Linear(in_features=784, out_features=256, bias=True)\n",
      "  (1): ReLU()\n",
      "  (2): Linear(in_features=256, out_features=128, bias=True)\n",
      "  (3): Sigmoid()\n",
      "  (4): Linear(in_features=128, out_features=64, bias=True)\n",
      "  (5): ReLU()\n",
      "  (6): Linear(in_features=64, out_features=10, bias=True)\n",
      ")\n"
     ]
    }
   ],
   "source": [
    "print(model) #Run this when you finish defining your model"
   ]
  },
  {
   "cell_type": "code",
   "execution_count": 275,
   "metadata": {
    "id": "h4NkC5mRb-go"
   },
   "outputs": [],
   "source": [
    "#Run This cell\n",
    "# it's important to transfer your model to the gpu for faster computations\n",
    "\n",
    "model = model.to(device=device)"
   ]
  },
  {
   "cell_type": "markdown",
   "metadata": {
    "id": "_0hV6tQTcVNt"
   },
   "source": [
    "\n",
    "\n",
    "---\n",
    "\n",
    "\n",
    "---\n",
    "\n",
    "\n",
    "\n",
    "---\n",
    "\n",
    "\n",
    "\n",
    "\n",
    "---\n",
    "\n",
    "\n",
    "\n",
    "---\n",
    "\n"
   ]
  },
  {
   "cell_type": "markdown",
   "metadata": {
    "id": "snZysKgKcekB"
   },
   "source": [
    "Now that we have our model and data ready, we need to train it: \n",
    "\n",
    "But in order to do that we need to define our loss function:\n",
    "\n",
    "luckly pytorch has most loss functions already implemented, for multi-class classification problems, we will be using the cross entroy loss which is basically computing the log softmax of an input followed by computing the negative log liklihood loss.\n",
    "\n",
    "read this for more info on the cross entropy loss: https://en.wikipedia.org/wiki/Cross_entropy\n",
    "\n",
    "also check the pytorch definition of it: https://pytorch.org/docs/stable/generated/torch.nn.CrossEntropyLoss.html (**important**)"
   ]
  },
  {
   "cell_type": "code",
   "execution_count": 276,
   "metadata": {
    "id": "lM_r6ITEwfov"
   },
   "outputs": [],
   "source": [
    "#run this cell\n",
    "\n",
    "criterion = nn.CrossEntropyLoss()"
   ]
  },
  {
   "cell_type": "markdown",
   "metadata": {
    "id": "QVQiq0zveZQj"
   },
   "source": [
    "\n",
    "\n",
    "---\n",
    "\n",
    "\n",
    "\n",
    "---\n",
    "\n",
    "\n",
    "\n",
    "\n",
    "\n",
    "---\n",
    "\n",
    "\n",
    "\n",
    "---\n",
    "\n",
    "\n",
    "\n",
    "---\n",
    "\n"
   ]
  },
  {
   "cell_type": "markdown",
   "metadata": {
    "id": "ce7Wdomjejk9"
   },
   "source": [
    "Another important step in training any model is to update it's weights and biases, and for that we need an optimization algorithm like Gradient decsent, Luckily in pytorch most optimization algorithms are implemented in the torch.optim module, and for this assignment we will be using the optim.SGD But you are free to look into more optim in the doc: https://pytorch.org/docs/stable/optim.html.\n",
    "\n",
    "You need to find suitable values for the learning rate and the momentum value"
   ]
  },
  {
   "cell_type": "code",
   "execution_count": 277,
   "metadata": {
    "id": "73N2vqTWd_iC"
   },
   "outputs": [],
   "source": [
    "learning_rate = 1e-2        # to be set\n",
    "momentum_value = 0.9       # to be set\n",
    "\n",
    "optimizer = optim.SGD(model.parameters(), lr = learning_rate, momentum = momentum_value)"
   ]
  },
  {
   "cell_type": "markdown",
   "metadata": {
    "id": "Io1LkA5Ufzpp"
   },
   "source": [
    "\n",
    "\n",
    "\n",
    "---\n",
    "\n",
    "\n",
    "\n",
    "---\n",
    "\n",
    "\n",
    "\n",
    "---\n",
    "\n",
    "\n",
    "---\n",
    "\n",
    "\n",
    "\n",
    "---\n",
    "\n"
   ]
  },
  {
   "cell_type": "markdown",
   "metadata": {
    "id": "L0Q9c1eaf3IY"
   },
   "source": [
    "# Now that we have all things set, let's train our model using Automatic differentaition from pytorch. "
   ]
  },
  {
   "cell_type": "code",
   "execution_count": 278,
   "metadata": {
    "id": "pIUCO2XAwfr2"
   },
   "outputs": [],
   "source": [
    "batch_size = 32            #set your batch size "
   ]
  },
  {
   "cell_type": "code",
   "execution_count": 279,
   "metadata": {
    "id": "NUa8WLW1gO8k"
   },
   "outputs": [],
   "source": [
    "#Run this cell \n",
    "# it wil set the number of batches for mini batch SGD\n",
    "\n",
    "N = x_train.shape[0]\n",
    "\n",
    "if N % batch_size == 0:\n",
    "    \n",
    "    n_batches = int(N / batch_size)\n",
    "    \n",
    "else:\n",
    "    \n",
    "    n_batches = int(N / batch_size) + 1"
   ]
  },
  {
   "cell_type": "markdown",
   "metadata": {
    "id": "ARNONOwUguAl"
   },
   "source": [
    "\n",
    "\n",
    "---\n",
    "\n",
    "---\n",
    "\n",
    "\n",
    "\n",
    "---\n",
    "\n",
    "\n",
    "\n",
    "---\n",
    "\n",
    "\n",
    "\n"
   ]
  },
  {
   "cell_type": "markdown",
   "metadata": {
    "id": "I1MbG4fFgwBy"
   },
   "source": [
    "# Main Training loop\n",
    "### ToDo: fill in the missing steps\n"
   ]
  },
  {
   "cell_type": "code",
   "execution_count": 280,
   "metadata": {
    "colab": {
     "base_uri": "https://localhost:8080/"
    },
    "id": "D5Gd17hRwfvA",
    "outputId": "ee773353-2d05-4d47-d19b-4f1e0a539ee1"
   },
   "outputs": [
    {
     "name": "stdout",
     "output_type": "stream",
     "text": [
      "epoch ==>  0 loss ==>  0.031007187957465647\n",
      "epoch ==>  1 loss ==>  0.01593226183742285\n",
      "epoch ==>  2 loss ==>  0.013380233996212482\n",
      "epoch ==>  3 loss ==>  0.012037060836106539\n",
      "epoch ==>  4 loss ==>  0.011150044438242912\n",
      "epoch ==>  5 loss ==>  0.010487225056141615\n",
      "epoch ==>  6 loss ==>  0.00996195756316185\n",
      "epoch ==>  7 loss ==>  0.009493740663826465\n",
      "epoch ==>  8 loss ==>  0.009109430528841913\n",
      "epoch ==>  9 loss ==>  0.008755392919257284\n",
      "epoch ==>  10 loss ==>  0.008453048074692488\n",
      "epoch ==>  11 loss ==>  0.008146244615130126\n",
      "epoch ==>  12 loss ==>  0.007875095360726118\n",
      "epoch ==>  13 loss ==>  0.007605847435668111\n",
      "epoch ==>  14 loss ==>  0.007367403738722205\n",
      "epoch ==>  15 loss ==>  0.007177843439429998\n",
      "epoch ==>  16 loss ==>  0.007000986005142331\n",
      "epoch ==>  17 loss ==>  0.006838538175709546\n",
      "epoch ==>  18 loss ==>  0.006594517065398395\n",
      "epoch ==>  19 loss ==>  0.006427791067697108\n",
      "epoch ==>  20 loss ==>  0.006290121721290052\n",
      "epoch ==>  21 loss ==>  0.006064427073616535\n",
      "epoch ==>  22 loss ==>  0.005937301672752947\n",
      "epoch ==>  23 loss ==>  0.00583991690935567\n",
      "epoch ==>  24 loss ==>  0.0056272326893545685\n",
      "epoch ==>  25 loss ==>  0.005465597597351298\n",
      "epoch ==>  26 loss ==>  0.0055178302992135286\n",
      "epoch ==>  27 loss ==>  0.005173821720294654\n",
      "epoch ==>  28 loss ==>  0.005096459443103522\n",
      "epoch ==>  29 loss ==>  0.004875483044758439\n",
      "epoch ==>  30 loss ==>  0.004729263719152659\n",
      "epoch ==>  31 loss ==>  0.004657627988439053\n",
      "epoch ==>  32 loss ==>  0.0046241400960274045\n",
      "epoch ==>  33 loss ==>  0.0044894123840890825\n",
      "epoch ==>  34 loss ==>  0.004278296405794099\n",
      "epoch ==>  35 loss ==>  0.004253293568324297\n",
      "epoch ==>  36 loss ==>  0.004205555675951764\n",
      "epoch ==>  37 loss ==>  0.004122152348617091\n",
      "epoch ==>  38 loss ==>  0.004002646924974397\n",
      "epoch ==>  39 loss ==>  0.003865354596390389\n",
      "epoch ==>  40 loss ==>  0.003742281509140739\n",
      "epoch ==>  41 loss ==>  0.003673012479369063\n",
      "epoch ==>  42 loss ==>  0.0035428053713054395\n",
      "epoch ==>  43 loss ==>  0.0035336604669014924\n",
      "epoch ==>  44 loss ==>  0.003584629776357906\n",
      "epoch ==>  45 loss ==>  0.0035952035225811415\n",
      "epoch ==>  46 loss ==>  0.0034417985319148284\n",
      "epoch ==>  47 loss ==>  0.003318604961292585\n",
      "epoch ==>  48 loss ==>  0.0032909103565849362\n",
      "epoch ==>  49 loss ==>  0.0032258533680601977\n"
     ]
    }
   ],
   "source": [
    "n_epochs = 50    # set the number of epochs\n",
    "losses = []\n",
    "\n",
    "for epoch in range(n_epochs):\n",
    "    \n",
    "    epoch_loss = 0\n",
    "  \n",
    "    for batch in range(n_batches):\n",
    "    \n",
    "        start = batch * batch_size\n",
    "        end = start + batch_size\n",
    "\n",
    "        train_images = x_train[start:end]\n",
    "        train_labels = y_train[start:end]\n",
    "\n",
    "        train_images = train_images.to(device = device)       # change the device of train_images to gpu\n",
    "        train_labels = train_labels.to(device = device)       # change the device of train_labels to gpu\n",
    "\n",
    "        outputs = model(train_images)      # feed the images to train_labels the model to get the outputs\n",
    "\n",
    "        loss = criterion(outputs, train_labels)         # compute the loss using the criterion we defined\n",
    "\n",
    "        epoch_loss += loss.item()\n",
    "\n",
    "        # zero the grad\n",
    "\n",
    "        optimizer.zero_grad()\n",
    "\n",
    "        # compute the gradient for each weight/bias from the loss\n",
    "\n",
    "        loss.backward()\n",
    "\n",
    "        # update the model parameters\n",
    "\n",
    "        optimizer.step()\n",
    "\n",
    "    epoch_loss = epoch_loss/N\n",
    "\n",
    "    print('epoch ==> ', epoch, 'loss ==> ', epoch_loss)\n",
    "\n",
    "    losses.append(epoch_loss)"
   ]
  },
  {
   "cell_type": "markdown",
   "metadata": {
    "id": "XjV6Vvdwh7YL"
   },
   "source": [
    "## ToDo: use matplot lib to plot the loss"
   ]
  },
  {
   "cell_type": "code",
   "execution_count": 281,
   "metadata": {
    "colab": {
     "base_uri": "https://localhost:8080/",
     "height": 312
    },
    "id": "G8RV3mWbicLV",
    "outputId": "33d5379d-18bc-48c5-c42b-2cd190f26b00"
   },
   "outputs": [
    {
     "data": {
      "text/plain": [
       "Text(0, 0.5, 'Loss')"
      ]
     },
     "execution_count": 281,
     "metadata": {},
     "output_type": "execute_result"
    },
    {
     "data": {
      "image/png": "[encoded data removed]",
      "text/plain": [
       "<Figure size 432x288 with 1 Axes>"
      ]
     },
     "metadata": {
      "needs_background": "light"
     },
     "output_type": "display_data"
    }
   ],
   "source": [
    "# Your code should ne here\n",
    "plt.plot(losses)\n",
    "plt.title(\"Training loss\")\n",
    "plt.xlabel(\"Number of epoch\")\n",
    "plt.ylabel(\"Loss\")"
   ]
  },
  {
   "cell_type": "markdown",
   "metadata": {
    "id": "jaTV06M9ifwV"
   },
   "source": [
    "\n",
    "\n",
    "\n",
    "---\n",
    "\n",
    "\n",
    "\n",
    "---\n",
    "\n",
    "\n",
    "\n",
    "---\n",
    "\n",
    "\n",
    "---\n",
    "\n",
    "\n",
    "\n",
    "---\n",
    "\n"
   ]
  },
  {
   "cell_type": "markdown",
   "metadata": {
    "id": "MBTXQJgxinj_"
   },
   "source": [
    "Now that we have trained our model, we need to know how much this model will perform (in term of accuracy) on the validation set.\n",
    "\n",
    "The performance on the validation set should give us a good hint, on how well our model will perform on the test set.\n",
    "\n"
   ]
  },
  {
   "cell_type": "code",
   "execution_count": 282,
   "metadata": {
    "id": "xtcLb9uASNo4"
   },
   "outputs": [],
   "source": [
    "# Run this cell\n",
    "\n",
    "BS = 256 \n",
    "N_val = x_val.shape[0]\n",
    "\n",
    "if N_val % BS == 0:\n",
    "    \n",
    "    n_batches = int(N_val / BS)\n",
    "    \n",
    "else:\n",
    "    \n",
    "    n_batches = int(N_val / BS) + 1"
   ]
  },
  {
   "cell_type": "markdown",
   "metadata": {
    "id": "BvreKsQVju9z"
   },
   "source": [
    "#### ToDo: fill in the missing lines to compute the accuracy on the test set."
   ]
  },
  {
   "cell_type": "code",
   "execution_count": 283,
   "metadata": {
    "colab": {
     "base_uri": "https://localhost:8080/"
    },
    "id": "M8EIkvmIwfxl",
    "outputId": "6622b2f1-b32f-4ab0-affc-54a0031ea703"
   },
   "outputs": [
    {
     "name": "stdout",
     "output_type": "stream",
     "text": [
      "Accuracy of the network on the 10000 test images: 88 %\n"
     ]
    }
   ],
   "source": [
    "correct = 0\n",
    "total = 0\n",
    "\n",
    "# Add the no grad context manager (covered in the tutorial)\n",
    "with torch.no_grad():\n",
    "    \n",
    "    for batch in range(n_batches):\n",
    "\n",
    "        start = batch * BS\n",
    "        end = start + BS\n",
    "\n",
    "        val_images = x_val[start:end]\n",
    "        val_labels = y_val[start:end]\n",
    "\n",
    "        val_images = val_images.to(device = device)       # change the device of val_images to gpu\n",
    "        val_labels = val_labels.to(device = device)       # change the device of val_labels to gpu\n",
    "\n",
    "        outputs = model(val_images)          # feed the val_images to the model to get the outputs\n",
    "\n",
    "        predicted = torch.argmax(outputs, 1)        # compute the argmax of the outputs to get the predicted labels\n",
    "\n",
    "        total += val_labels.size(0)\n",
    "\n",
    "        correct += (predicted == val_labels).sum().item()\n",
    "\n",
    "print('Accuracy of the network on the %d test images: %d %%' % (\n",
    "    total, 100 * correct / total))"
   ]
  },
  {
   "cell_type": "markdown",
   "metadata": {
    "id": "O89dx5apqnal"
   },
   "source": [
    "# You are expected to get good val acc > 70% at least"
   ]
  },
  {
   "cell_type": "markdown",
   "metadata": {
    "id": "UPzjRtH6qtrg"
   },
   "source": [
    "\n",
    "\n",
    "---\n",
    "\n",
    "\n",
    "\n",
    "---\n",
    "\n",
    "\n",
    "\n",
    "---\n",
    "\n"
   ]
  },
  {
   "cell_type": "code",
   "execution_count": null,
   "metadata": {},
   "outputs": [],
   "source": []
  }
 ],
 "metadata": {
  "accelerator": "GPU",
  "colab": {
   "collapsed_sections": [],
   "name": "KIBINDA || AMMI_DL_Assignment_TorchNN.ipynb",
   "provenance": [],
   "toc_visible": true
  },
  "kernelspec": {
   "display_name": "Python 3",
   "language": "python",
   "name": "python3"
  },
  "language_info": {
   "codemirror_mode": {
    "name": "ipython",
    "version": 3
   },
   "file_extension": ".py",
   "mimetype": "text/x-python",
   "name": "python",
   "nbconvert_exporter": "python",
   "pygments_lexer": "ipython3",
   "version": "3.8.5"
  }
 },
 "nbformat": 4,
 "nbformat_minor": 1
}
