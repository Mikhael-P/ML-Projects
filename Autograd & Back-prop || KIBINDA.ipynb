{
 "cells": [
  {
   "cell_type": "code",
   "execution_count": 158,
   "metadata": {},
   "outputs": [],
   "source": [
    "import torch.tensor as Tensor\n",
    "import torch as torch\n",
    "from torch.autograd import Variable"
   ]
  },
  {
   "cell_type": "code",
   "execution_count": 159,
   "metadata": {},
   "outputs": [],
   "source": [
    "x_data = [1.0, 2.0, 3.0]\n",
    "y_data = [2.0, 4.0, 6.0]"
   ]
  },
  {
   "cell_type": "code",
   "execution_count": 160,
   "metadata": {},
   "outputs": [
    {
     "data": {
      "text/plain": [
       "tensor([1.], requires_grad=True)"
      ]
     },
     "execution_count": 160,
     "metadata": {},
     "output_type": "execute_result"
    }
   ],
   "source": [
    "w = Variable(torch.Tensor([1.0]), requires_grad = True) # Any random value\n",
    "w"
   ]
  },
  {
   "cell_type": "code",
   "execution_count": 167,
   "metadata": {},
   "outputs": [],
   "source": [
    "x = Variable(torch.randn(1,10))\n",
    "\n",
    "prev_h = Variable(torch.randn(1,20), requires_grad = True)\n",
    "\n",
    "W_h = Variable(torch.randn(20,20), requires_grad = True)\n",
    "\n",
    "W_x = Variable(torch.randn(20,10), requires_grad = True)"
   ]
  },
  {
   "cell_type": "code",
   "execution_count": 173,
   "metadata": {},
   "outputs": [],
   "source": [
    "i2h = torch.mm(W_x, x.t())\n",
    "\n",
    "h2h = torch.mm(W_h, prev_h.t())\n",
    "\n",
    "next_h = i2h + h2h\n",
    "\n",
    "next_h = next_h.tanh()"
   ]
  },
  {
   "cell_type": "code",
   "execution_count": 174,
   "metadata": {},
   "outputs": [],
   "source": [
    "next_h.backward(torch.ones(1,20).t()) # dnext_h / dW_x"
   ]
  },
  {
   "cell_type": "code",
   "execution_count": 175,
   "metadata": {
    "scrolled": true
   },
   "outputs": [
    {
     "name": "stdout",
     "output_type": "stream",
     "text": [
      "tensor([[-2.9795e-03, -1.8440e-03,  1.0237e-03, -7.1981e-03, -3.2329e-03,\n",
      "         -3.4554e-04,  2.6289e-03,  6.5204e-04, -1.9075e-03, -2.7961e-03],\n",
      "        [-1.4740e-05, -9.1224e-06,  5.0644e-06, -3.5609e-05, -1.5993e-05,\n",
      "         -1.7094e-06,  1.3005e-05,  3.2257e-06, -9.4366e-06, -1.3833e-05],\n",
      "        [-2.1327e-02, -1.3199e-02,  7.3279e-03, -5.1524e-02, -2.3141e-02,\n",
      "         -2.4734e-03,  1.8817e-02,  4.6673e-03, -1.3654e-02, -2.0015e-02],\n",
      "        [-8.7736e-01, -5.4300e-01,  3.0146e-01, -2.1196e+00, -9.5198e-01,\n",
      "         -1.0175e-01,  7.7412e-01,  1.9200e-01, -5.6171e-01, -8.2337e-01],\n",
      "        [-7.9892e-04, -4.9445e-04,  2.7450e-04, -1.9301e-03, -8.6686e-04,\n",
      "         -9.2654e-05,  7.0490e-04,  1.7484e-04, -5.1148e-04, -7.4975e-04],\n",
      "        [-7.7577e-07, -4.8013e-07,  2.6655e-07, -1.8742e-06, -8.4175e-07,\n",
      "         -8.9970e-08,  6.8448e-07,  1.6977e-07, -4.9666e-07, -7.2803e-07],\n",
      "        [-3.2284e-01, -1.9981e-01,  1.1093e-01, -7.7994e-01, -3.5030e-01,\n",
      "         -3.7441e-02,  2.8485e-01,  7.0651e-02, -2.0669e-01, -3.0297e-01],\n",
      "        [-7.2747e-01, -4.5023e-01,  2.4996e-01, -1.7575e+00, -7.8935e-01,\n",
      "         -8.4368e-02,  6.4187e-01,  1.5920e-01, -4.6574e-01, -6.8271e-01],\n",
      "        [-7.8118e-03, -4.8347e-03,  2.6841e-03, -1.8872e-02, -8.4761e-03,\n",
      "         -9.0596e-04,  6.8925e-03,  1.7095e-03, -5.0012e-03, -7.3310e-03],\n",
      "        [-4.9158e-01, -3.0424e-01,  1.6890e-01, -1.1876e+00, -5.3339e-01,\n",
      "         -5.7011e-02,  4.3373e-01,  1.0758e-01, -3.1472e-01, -4.6133e-01],\n",
      "        [-5.3005e-01, -3.2805e-01,  1.8212e-01, -1.2805e+00, -5.7513e-01,\n",
      "         -6.1472e-02,  4.6768e-01,  1.1600e-01, -3.3935e-01, -4.9743e-01],\n",
      "        [-4.7447e-02, -2.9365e-02,  1.6302e-02, -1.1463e-01, -5.1482e-02,\n",
      "         -5.5026e-03,  4.1863e-02,  1.0383e-02, -3.0376e-02, -4.4527e-02],\n",
      "        [-4.6292e-02, -2.8650e-02,  1.5906e-02, -1.1184e-01, -5.0229e-02,\n",
      "         -5.3687e-03,  4.0845e-02,  1.0131e-02, -2.9637e-02, -4.3443e-02],\n",
      "        [-2.3691e-01, -1.4662e-01,  8.1400e-02, -5.7234e-01, -2.5706e-01,\n",
      "         -2.7475e-02,  2.0903e-01,  5.1846e-02, -1.5167e-01, -2.2233e-01],\n",
      "        [-1.8843e+00, -1.1662e+00,  6.4744e-01, -4.5523e+00, -2.0446e+00,\n",
      "         -2.1853e-01,  1.6626e+00,  4.1237e-01, -1.2064e+00, -1.7684e+00],\n",
      "        [-3.4165e-03, -2.1145e-03,  1.1739e-03, -8.2538e-03, -3.7071e-03,\n",
      "         -3.9623e-04,  3.0145e-03,  7.4767e-04, -2.1873e-03, -3.2063e-03],\n",
      "        [-2.7539e-03, -1.7044e-03,  9.4621e-04, -6.6530e-03, -2.9881e-03,\n",
      "         -3.1938e-04,  2.4298e-03,  6.0266e-04, -1.7631e-03, -2.5844e-03],\n",
      "        [-2.1551e+00, -1.3338e+00,  7.4048e-01, -5.2064e+00, -2.3384e+00,\n",
      "         -2.4994e-01,  1.9015e+00,  4.7163e-01, -1.3797e+00, -2.0225e+00],\n",
      "        [-3.7069e-03, -2.2942e-03,  1.2737e-03, -8.9554e-03, -4.0222e-03,\n",
      "         -4.2991e-04,  3.2707e-03,  8.1123e-04, -2.3732e-03, -3.4788e-03],\n",
      "        [-4.3075e-03, -2.6659e-03,  1.4800e-03, -1.0406e-02, -4.6738e-03,\n",
      "         -4.9956e-04,  3.8006e-03,  9.4266e-04, -2.7577e-03, -4.0424e-03]])\n"
     ]
    }
   ],
   "source": [
    "print(W_x.grad)"
   ]
  },
  {
   "cell_type": "code",
   "execution_count": null,
   "metadata": {},
   "outputs": [],
   "source": []
  },
  {
   "cell_type": "code",
   "execution_count": null,
   "metadata": {},
   "outputs": [],
   "source": []
  },
  {
   "cell_type": "code",
   "execution_count": null,
   "metadata": {},
   "outputs": [],
   "source": []
  },
  {
   "cell_type": "code",
   "execution_count": 176,
   "metadata": {},
   "outputs": [],
   "source": [
    "# Our model forward pass\n",
    "\n",
    "def forward(x):\n",
    "    return x * w"
   ]
  },
  {
   "cell_type": "code",
   "execution_count": 177,
   "metadata": {},
   "outputs": [],
   "source": [
    "# Loss function\n",
    "\n",
    "def loss(x, y):\n",
    "    y_pred = forward(x)\n",
    "    return (y_pred - y)**2"
   ]
  },
  {
   "cell_type": "code",
   "execution_count": 178,
   "metadata": {},
   "outputs": [
    {
     "name": "stdout",
     "output_type": "stream",
     "text": [
      "predict (before training) 4 tensor(4.)\n"
     ]
    }
   ],
   "source": [
    "print(\"predict (before training)\", 4, forward(4).data[0])"
   ]
  },
  {
   "cell_type": "code",
   "execution_count": null,
   "metadata": {},
   "outputs": [],
   "source": []
  },
  {
   "cell_type": "code",
   "execution_count": 179,
   "metadata": {},
   "outputs": [
    {
     "name": "stdout",
     "output_type": "stream",
     "text": [
      "\tgrad:  1.0 2.0 tensor(-2.)\n",
      "\tgrad:  2.0 4.0 tensor(-7.8400)\n",
      "\tgrad:  3.0 6.0 tensor(-16.2288)\n",
      "progress: 0 tensor(7.3159)\n",
      "\tgrad:  1.0 2.0 tensor(-1.4786)\n",
      "\tgrad:  2.0 4.0 tensor(-5.7962)\n",
      "\tgrad:  3.0 6.0 tensor(-11.9981)\n",
      "progress: 1 tensor(3.9988)\n",
      "\tgrad:  1.0 2.0 tensor(-1.0932)\n",
      "\tgrad:  2.0 4.0 tensor(-4.2852)\n",
      "\tgrad:  3.0 6.0 tensor(-8.8704)\n",
      "progress: 2 tensor(2.1857)\n",
      "\tgrad:  1.0 2.0 tensor(-0.8082)\n",
      "\tgrad:  2.0 4.0 tensor(-3.1681)\n",
      "\tgrad:  3.0 6.0 tensor(-6.5580)\n",
      "progress: 3 tensor(1.1946)\n",
      "\tgrad:  1.0 2.0 tensor(-0.5975)\n",
      "\tgrad:  2.0 4.0 tensor(-2.3422)\n",
      "\tgrad:  3.0 6.0 tensor(-4.8484)\n",
      "progress: 4 tensor(0.6530)\n",
      "\tgrad:  1.0 2.0 tensor(-0.4417)\n",
      "\tgrad:  2.0 4.0 tensor(-1.7316)\n",
      "\tgrad:  3.0 6.0 tensor(-3.5845)\n",
      "progress: 5 tensor(0.3569)\n",
      "predict (after training) 4 tensor(7.3468)\n"
     ]
    }
   ],
   "source": [
    "# Training loop\n",
    "\n",
    "for epoch in range(6):\n",
    "    for x_val, y_val in zip(x_data, y_data):\n",
    "        l = loss(x_val, y_val)\n",
    "        l.backward()\n",
    "        print(\"\\tgrad: \", x_val, y_val, w.grad.data[0])\n",
    "        w.data = w.data - 0.01 * w.grad.data\n",
    "        \n",
    "        # Manually zero the gradients after updating weights\n",
    "        w.grad.data.zero_()\n",
    "        \n",
    "    print(\"progress:\", epoch, l.data[0])\n",
    "    \n",
    "# After training\n",
    "\n",
    "print(\"predict (after training)\", 4, forward(4).data[0])"
   ]
  },
  {
   "cell_type": "code",
   "execution_count": null,
   "metadata": {},
   "outputs": [],
   "source": []
  },
  {
   "cell_type": "code",
   "execution_count": 180,
   "metadata": {},
   "outputs": [],
   "source": [
    "l = loss(x = 1, y = 2)"
   ]
  },
  {
   "cell_type": "code",
   "execution_count": null,
   "metadata": {},
   "outputs": [],
   "source": []
  },
  {
   "cell_type": "markdown",
   "metadata": {},
   "source": [
    "### Other part"
   ]
  },
  {
   "cell_type": "code",
   "execution_count": 149,
   "metadata": {},
   "outputs": [
    {
     "data": {
      "text/plain": [
       "tensor([-0.1377, -1.5363,  2.2986], requires_grad=True)"
      ]
     },
     "execution_count": 149,
     "metadata": {},
     "output_type": "execute_result"
    }
   ],
   "source": [
    "x = torch.randn(3, requires_grad = True)\n",
    "x"
   ]
  },
  {
   "cell_type": "code",
   "execution_count": 150,
   "metadata": {},
   "outputs": [
    {
     "data": {
      "text/plain": [
       "tensor([1.8623, 0.4637, 4.2986], grad_fn=<AddBackward0>)"
      ]
     },
     "execution_count": 150,
     "metadata": {},
     "output_type": "execute_result"
    }
   ],
   "source": [
    "y = x + 2\n",
    "y"
   ]
  },
  {
   "cell_type": "code",
   "execution_count": 153,
   "metadata": {},
   "outputs": [
    {
     "data": {
      "text/plain": [
       "tensor([ 6.9361,  0.4300, 36.9566], grad_fn=<MulBackward0>)"
      ]
     },
     "execution_count": 153,
     "metadata": {},
     "output_type": "execute_result"
    }
   ],
   "source": [
    "z = y * y * 2\n",
    "z"
   ]
  },
  {
   "cell_type": "code",
   "execution_count": 155,
   "metadata": {},
   "outputs": [
    {
     "data": {
      "text/plain": [
       "tensor(14.7742, grad_fn=<MeanBackward0>)"
      ]
     },
     "execution_count": 155,
     "metadata": {},
     "output_type": "execute_result"
    }
   ],
   "source": [
    "z = z.mean()\n",
    "z"
   ]
  },
  {
   "cell_type": "code",
   "execution_count": 156,
   "metadata": {},
   "outputs": [],
   "source": [
    "z.backward()"
   ]
  },
  {
   "cell_type": "code",
   "execution_count": null,
   "metadata": {},
   "outputs": [],
   "source": []
  }
 ],
 "metadata": {
  "kernelspec": {
   "display_name": "Python 3",
   "language": "python",
   "name": "python3"
  },
  "language_info": {
   "codemirror_mode": {
    "name": "ipython",
    "version": 3
   },
   "file_extension": ".py",
   "mimetype": "text/x-python",
   "name": "python",
   "nbconvert_exporter": "python",
   "pygments_lexer": "ipython3",
   "version": "3.8.5"
  }
 },
 "nbformat": 4,
 "nbformat_minor": 4
}
