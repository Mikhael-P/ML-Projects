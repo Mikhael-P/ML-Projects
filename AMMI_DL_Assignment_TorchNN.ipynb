{
  "nbformat": 4,
  "nbformat_minor": 0,
  "metadata": {
    "colab": {
      "name": "AMMI DL Assignment - TorchNN.ipynb",
      "provenance": [],
      "collapsed_sections": []
    },
    "kernelspec": {
      "name": "python3",
      "display_name": "Python 3"
    },
    "language_info": {
      "name": "python"
    },
    "accelerator": "GPU"
  },
  "cells": [
    {
      "cell_type": "markdown",
      "metadata": {
        "id": "PAkBSdTvq0Cr"
      },
      "source": [
        "<img src='http://sn.nexteinstein.org/wp-content/uploads/sites/12/2016/07/aims_senegal.jpg' />"
      ]
    },
    {
      "cell_type": "markdown",
      "metadata": {
        "id": "TSBZZYqgq2Su"
      },
      "source": [
        "In this notebook you will implement and train a feed-forward neural network using the torch.nn module to solve a multi-class classification problem on a dataset called \"Fashion MNIST\".\n",
        "\n",
        "---\n",
        "\n",
        "***Learning Objectives:***\n",
        "\n",
        "* Understand how to use Pytorch nn module and the sequential container to build a neural network architecture.\n",
        "\n",
        "\n",
        "* Understand how a model is trained using the opitm module and the Autgrad engine and How to evaluate your model.\n",
        "\n",
        "---\n",
        "\n",
        "**Resources that you need to cover before starting**:\n",
        "\n",
        "* Review the Tutorial Notebook.\n",
        "\n",
        "* Read the torch.nn docs: https://pytorch.org/docs/stable/nn.html\n",
        "\n",
        "* Read the article about moving from computing gradient from scratch to useing torch.nn https://pytorch.org/tutorials/beginner/nn_tutorial.html\n",
        "\n",
        "* Read the pytorch offical tutorial on training multi-class classifiers:\n",
        "https://pytorch.org/tutorials/beginner/blitz/cifar10_tutorial.html"
      ]
    },
    {
      "cell_type": "markdown",
      "metadata": {
        "id": "i4ngU0vOrd68"
      },
      "source": [
        "# Setup code (Read first But Don't modify)"
      ]
    },
    {
      "cell_type": "code",
      "metadata": {
        "id": "NljcxD0Estne"
      },
      "source": [
        "import torch\n",
        "import torch.nn as nn\n",
        "import torch.nn.functional as F\n",
        "import torch.optim as optim\n",
        "\n",
        "import torchvision\n",
        "import torchvision.datasets as datasets\n",
        "\n",
        "import matplotlib.pyplot as plt\n",
        "%matplotlib inline"
      ],
      "execution_count": null,
      "outputs": []
    },
    {
      "cell_type": "markdown",
      "metadata": {
        "id": "MygxOwpX-H4f"
      },
      "source": [
        "\n",
        "\n",
        "---\n",
        "\n"
      ]
    },
    {
      "cell_type": "markdown",
      "metadata": {
        "id": "BQKtRDqBz3gT"
      },
      "source": [
        "#### Loading the Data: \n",
        "\n",
        "We will use the Fashion MNIST dataset consisting of 70,000 greyscale images of shape(28x28 flattened to have shape 784) and their labels.\n",
        "\n",
        "The dataset is divided into 60,000 training images and 10,000 test images. The idea is to train a classifier to identify the class value (what type of fashion item it is) given the image (total of **10** classes).\n",
        "\n",
        "We will split the training data into 50,000 training images used to train a model on it, and 10,000 validation images used to tune your choice of hyperparams and model architecture.\n",
        "\n",
        "The last step is to evaluate how well your model classifies the 10,000 test images (will be used to assess your implementation).\n",
        "\n",
        "\n",
        "**The classes are: ['T-shirt/top', 'Trouser', 'Pullover', 'Dress', 'Coat', 'Sandal', 'Shirt', 'Sneaker', 'Bag', 'Ankle boot']**\n",
        "\n",
        "This is how the 10 class images looks like before flattening it:\n",
        "\n",
        "<img src='https://www.googleapis.com/download/storage/v1/b/kaggle-user-content/o/inbox%2F549262%2Fd6f4f6e13fa211c9e773479566d89ac9%2FExample-for-fashion-MNIST-Each-class-is-represented-by-nine-cases.png?generation=1576784453715625&alt=media' />"
      ]
    },
    {
      "cell_type": "markdown",
      "metadata": {
        "id": "JyVLHX__-Jws"
      },
      "source": [
        "\n",
        "\n",
        "---\n",
        "\n"
      ]
    },
    {
      "cell_type": "code",
      "metadata": {
        "id": "mX1jXWxtweco"
      },
      "source": [
        "#get the data\n",
        "\n",
        "def load_data():\n",
        "\n",
        "  #using the dataset module from torchvision\n",
        "  mnist_train_set = datasets.FashionMNIST('data/fashiomnist/', train = True, download = True)\n",
        "  mnist_test_set = datasets.FashionMNIST('data/fashiomnist/', train = False, download = True)\n",
        "\n",
        "  #train data\n",
        "  train_images = mnist_train_set.data.view(-1, 1, 28, 28).float()\n",
        "  train_targets = mnist_train_set.targets\n",
        "\n",
        "  #test data\n",
        "  test_images = mnist_test_set.data.view(-1, 1, 28, 28).float()\n",
        "  y_test = mnist_test_set.targets\n",
        "\n",
        "  #flatten\n",
        "  train_val_input = train_images.clone().reshape(train_images.size(0), -1)/255.0\n",
        "  x_test = test_images.clone().reshape(test_images.size(0), -1)/255.0\n",
        "\n",
        "  # shuffle\n",
        "  N = train_val_input.shape[0]\n",
        "  index = torch.randperm(N)\n",
        "\n",
        "  #train val split\n",
        "  x_train = train_val_input[index][:50000]\n",
        "  y_train = train_targets[index][:50000]\n",
        "\n",
        "  x_val = train_val_input[index][50000:]\n",
        "  y_val = train_targets[index][50000:]\n",
        "\n",
        "  return x_train, y_train, x_val, y_val, x_test, y_test"
      ],
      "execution_count": null,
      "outputs": []
    },
    {
      "cell_type": "code",
      "metadata": {
        "id": "cmO0FsLnYxpJ"
      },
      "source": [
        "x_train, y_train, x_val, y_val, _, __ = load_data()"
      ],
      "execution_count": null,
      "outputs": []
    },
    {
      "cell_type": "code",
      "metadata": {
        "id": "iHajRlnh8ZBe"
      },
      "source": [
        "print('train data shape: ', x_train.shape)\n",
        "print('train targets shape: ', y_train.shape)\n",
        "print(' ')\n",
        "print('validation data shape: ', x_val.shape)\n",
        "print('Validation targets shape: ', y_val.shape)"
      ],
      "execution_count": null,
      "outputs": []
    },
    {
      "cell_type": "markdown",
      "metadata": {
        "id": "1qVF8ZdO-MkE"
      },
      "source": [
        "\n",
        "\n",
        "---\n",
        "\n",
        "\n",
        "\n",
        "---\n",
        "\n"
      ]
    },
    {
      "cell_type": "markdown",
      "metadata": {
        "id": "ZpfIjcho6PIV"
      },
      "source": [
        "#### We will be using gpus to accelerate the training. make sure to change your runtime to use a *gpu*.\n",
        "\n",
        "#### go to Runtime ===> Change Runtime Type ===> Hardware accelerator ===> choose (GPU)\n"
      ]
    },
    {
      "cell_type": "code",
      "metadata": {
        "id": "GA5llWY9te4E"
      },
      "source": [
        "if torch.cuda.is_available():\n",
        "  device = torch.device('cuda:0')\n",
        "else:\n",
        "  device = torch.device('cpu')\n",
        "  \n",
        "print('using device:', device)"
      ],
      "execution_count": null,
      "outputs": []
    },
    {
      "cell_type": "markdown",
      "metadata": {
        "id": "HZgAMtBSZHqA"
      },
      "source": [
        "Note that every tensor in pytorch has a **.device** attribute By default it's set to 'cpu' But it can be changed to 'gpu' using the **'.to'** command:"
      ]
    },
    {
      "cell_type": "code",
      "metadata": {
        "id": "La4h7iZnZbiR"
      },
      "source": [
        "# toy example \n",
        "a = torch.rand(2,3)\n",
        "print(a.device) # by default it's 'cpu'\n",
        "\n",
        "a = a.to(device = device)\n",
        "print(a.device) # should print 'cuda:0'"
      ],
      "execution_count": null,
      "outputs": []
    },
    {
      "cell_type": "markdown",
      "metadata": {
        "id": "NN2tXNtr9-vX"
      },
      "source": [
        "---\n",
        "---\n",
        "---\n",
        "---\n",
        "---"
      ]
    },
    {
      "cell_type": "markdown",
      "metadata": {
        "id": "Zk-ExNrjaAU5"
      },
      "source": [
        "Now it's your turn to define a model using the **torch.nn.Sequential** container module.\n",
        "\n",
        "Your model should accept an input of shape D = 784 and output 10 numbers represent the probability of belonging to each class.\n",
        "\n",
        "ideally a good model will have at least one hidden layer (or more) followed by non-linear activation functions like (nn.ReLU, nn.Sigmoid ... etc) \n",
        "\n",
        "\n",
        "you can take some help from the docs: \n",
        "https://pytorch.org/docs/stable/generated/torch.nn.Sequential.html "
      ]
    },
    {
      "cell_type": "code",
      "metadata": {
        "id": "2IqWt4DHtf_O"
      },
      "source": [
        "# define a neural network model using the nn.Sequential container\n",
        "\n",
        "D = x_train.shape[1]\n",
        "n_classes = 10\n",
        "\n",
        "model = nn.Sequential(\n",
        "    \n",
        "    #your code should be here  \n",
        "\n",
        ")"
      ],
      "execution_count": null,
      "outputs": []
    },
    {
      "cell_type": "code",
      "metadata": {
        "id": "e7-cOz-vcKM0"
      },
      "source": [
        "print(model) #Run this when you finish defining your model"
      ],
      "execution_count": null,
      "outputs": []
    },
    {
      "cell_type": "code",
      "metadata": {
        "id": "h4NkC5mRb-go"
      },
      "source": [
        "#Run This cell\n",
        "# it's important to transfer your model to the gpu for faster computations\n",
        "\n",
        "model = model.to(device=device)"
      ],
      "execution_count": null,
      "outputs": []
    },
    {
      "cell_type": "markdown",
      "metadata": {
        "id": "_0hV6tQTcVNt"
      },
      "source": [
        "\n",
        "\n",
        "---\n",
        "\n",
        "\n",
        "---\n",
        "\n",
        "\n",
        "\n",
        "---\n",
        "\n",
        "\n",
        "\n",
        "\n",
        "---\n",
        "\n",
        "\n",
        "\n",
        "---\n",
        "\n"
      ]
    },
    {
      "cell_type": "markdown",
      "metadata": {
        "id": "snZysKgKcekB"
      },
      "source": [
        "Now that we have our model and data ready, we need to train it: \n",
        "\n",
        "But in order to do that we need to define our loss function:\n",
        "\n",
        "luckly pytorch has most loss functions already implemented, for multi-class classification problems, we will be using the cross entroy loss which is basically computing the log softmax of an input followed by computing the negative log liklihood loss.\n",
        "\n",
        "read this for more info on the cross entropy loss: https://en.wikipedia.org/wiki/Cross_entropy\n",
        "\n",
        "also check the pytorch definition of it: https://pytorch.org/docs/stable/generated/torch.nn.CrossEntropyLoss.html (**important**)"
      ]
    },
    {
      "cell_type": "code",
      "metadata": {
        "id": "lM_r6ITEwfov"
      },
      "source": [
        "#run this cell\n",
        "\n",
        "criterion = nn.CrossEntropyLoss()"
      ],
      "execution_count": null,
      "outputs": []
    },
    {
      "cell_type": "markdown",
      "metadata": {
        "id": "QVQiq0zveZQj"
      },
      "source": [
        "\n",
        "\n",
        "---\n",
        "\n",
        "\n",
        "\n",
        "---\n",
        "\n",
        "\n",
        "\n",
        "\n",
        "\n",
        "---\n",
        "\n",
        "\n",
        "\n",
        "---\n",
        "\n",
        "\n",
        "\n",
        "---\n",
        "\n"
      ]
    },
    {
      "cell_type": "markdown",
      "metadata": {
        "id": "ce7Wdomjejk9"
      },
      "source": [
        "Another important step in training any model is to update it's weights and biases, and for that we need an optimization algorithm like Gradient decsent, Luckily in pytorch most optimization algorithms are implemented in the torch.optim module, and for this assignment we will be using the optim.SGD But you are free to look into more optim in the doc: https://pytorch.org/docs/stable/optim.html.\n",
        "\n",
        "You need to find suitable values for the learning rate and the momentum value"
      ]
    },
    {
      "cell_type": "code",
      "metadata": {
        "id": "73N2vqTWd_iC"
      },
      "source": [
        "learning_rate =         # to be set\n",
        "momentum_value =        # to be set\n",
        "\n",
        "optimizer = optim.SGD(model.parameters(), lr = learning_rate, momentum = momentum_value)"
      ],
      "execution_count": null,
      "outputs": []
    },
    {
      "cell_type": "markdown",
      "metadata": {
        "id": "Io1LkA5Ufzpp"
      },
      "source": [
        "\n",
        "\n",
        "\n",
        "---\n",
        "\n",
        "\n",
        "\n",
        "---\n",
        "\n",
        "\n",
        "\n",
        "---\n",
        "\n",
        "\n",
        "---\n",
        "\n",
        "\n",
        "\n",
        "---\n",
        "\n"
      ]
    },
    {
      "cell_type": "markdown",
      "metadata": {
        "id": "L0Q9c1eaf3IY"
      },
      "source": [
        "# Now that we have all things set, let's train our model using Automatic differentaition from pytorch. "
      ]
    },
    {
      "cell_type": "code",
      "metadata": {
        "id": "pIUCO2XAwfr2"
      },
      "source": [
        "batch_size =              #set your batch size "
      ],
      "execution_count": null,
      "outputs": []
    },
    {
      "cell_type": "code",
      "metadata": {
        "id": "NUa8WLW1gO8k"
      },
      "source": [
        "#Run this cell \n",
        "# it wil set the number of batches for mini batch SGD\n",
        "\n",
        "N = x_train.shape[0]\n",
        "\n",
        "if N % batch_size == 0:\n",
        "  n_batches = int(N / batch_size)\n",
        "else:\n",
        "  n_batches = int(N / batch_size) + 1"
      ],
      "execution_count": null,
      "outputs": []
    },
    {
      "cell_type": "markdown",
      "metadata": {
        "id": "ARNONOwUguAl"
      },
      "source": [
        "\n",
        "\n",
        "---\n",
        "\n",
        "---\n",
        "\n",
        "\n",
        "\n",
        "---\n",
        "\n",
        "\n",
        "\n",
        "---\n",
        "\n",
        "\n",
        "\n"
      ]
    },
    {
      "cell_type": "markdown",
      "metadata": {
        "id": "I1MbG4fFgwBy"
      },
      "source": [
        "# Main Training loop\n",
        "### ToDo: fill in the missing steps\n"
      ]
    },
    {
      "cell_type": "code",
      "metadata": {
        "id": "D5Gd17hRwfvA"
      },
      "source": [
        "n_epochs =     # set the number of epochs\n",
        "losses = []\n",
        "\n",
        "for epoch in range(n_epochs):\n",
        "  \n",
        "  epoch_loss = 0\n",
        "  \n",
        "  for batch in range(n_batches):\n",
        "    \n",
        "    start = batch * batch_size\n",
        "    end = start + batch_size\n",
        "\n",
        "    train_images = x_train[start:end]\n",
        "    train_labels = y_train[start:end]\n",
        "\n",
        "    train_images =        # change the device of train_images to gpu\n",
        "    train_labels =        # change the device of train_labels to gpu\n",
        "\n",
        "    outputs =       # feed the images totrain_labels the model to get the outputs\n",
        "\n",
        "    loss =          # compute the loss using the criterion we defined\n",
        "    \n",
        "    epoch_loss += loss.item()\n",
        "\n",
        "    # zero the grad\n",
        "    \n",
        "    # compute the gradient for each weight/bias from the loss\n",
        "    \n",
        "    # update the model parameters\n",
        "\n",
        "  epoch_loss = epoch_loss/N\n",
        "\n",
        "  print('epoch ==> ', epoch, 'loss ==> ', epoch_loss)\n",
        "\n",
        "  losses.append(epoch_loss)"
      ],
      "execution_count": null,
      "outputs": []
    },
    {
      "cell_type": "markdown",
      "metadata": {
        "id": "XjV6Vvdwh7YL"
      },
      "source": [
        "## ToDo: use matplot lib to plot the loss"
      ]
    },
    {
      "cell_type": "code",
      "metadata": {
        "id": "G8RV3mWbicLV"
      },
      "source": [
        "# Your code should ne here\n"
      ],
      "execution_count": null,
      "outputs": []
    },
    {
      "cell_type": "markdown",
      "metadata": {
        "id": "jaTV06M9ifwV"
      },
      "source": [
        "\n",
        "\n",
        "\n",
        "---\n",
        "\n",
        "\n",
        "\n",
        "---\n",
        "\n",
        "\n",
        "\n",
        "---\n",
        "\n",
        "\n",
        "---\n",
        "\n",
        "\n",
        "\n",
        "---\n",
        "\n"
      ]
    },
    {
      "cell_type": "markdown",
      "metadata": {
        "id": "MBTXQJgxinj_"
      },
      "source": [
        "Now that we have trained our model, we need to know how much this model will perform (in term of accuracy) on the validation set.\n",
        "\n",
        "The performance on the validation set should give us a good hint, on how well our model will perform on the test set.\n",
        "\n"
      ]
    },
    {
      "cell_type": "code",
      "metadata": {
        "id": "xtcLb9uASNo4"
      },
      "source": [
        "# Run this cell\n",
        "\n",
        "BS = 256 \n",
        "N_val = x_val.shape[0]\n",
        "\n",
        "if N_val % BS == 0:\n",
        "  n_batches = int(N_val / BS)\n",
        "else:\n",
        "  n_batches = int(N_val / BS) + 1"
      ],
      "execution_count": null,
      "outputs": []
    },
    {
      "cell_type": "markdown",
      "metadata": {
        "id": "BvreKsQVju9z"
      },
      "source": [
        "#### ToDo: fill in the missing lines to compute the accuracy on the test set."
      ]
    },
    {
      "cell_type": "code",
      "metadata": {
        "id": "M8EIkvmIwfxl"
      },
      "source": [
        "correct = 0\n",
        "total = 0\n",
        "\n",
        "# Add the no grad context manager (covered in the tutorial)\n",
        "      \n",
        "      for batch in range(n_batches):\n",
        "    \n",
        "        start = batch * BS\n",
        "        end = start + BS\n",
        "\n",
        "        val_images = x_val[start:end]\n",
        "        val_labels = y_val[start:end]\n",
        "\n",
        "        val_images =        # change the device of val_images to gpu\n",
        "        val_labels =        # change the device of val_labels to gpu\n",
        "\n",
        "        outputs =           # feed the val_images to the model to get the outputs\n",
        "\n",
        "        predicted =         # compute the argmax of the outputs to get the predicted labels\n",
        "        \n",
        "        total += val_labels.size(0)\n",
        "        \n",
        "        correct += (predicted == val_labels).sum().item()\n",
        "\n",
        "print('Accuracy of the network on the %d test images: %d %%' % (\n",
        "    total, 100 * correct / total))"
      ],
      "execution_count": null,
      "outputs": []
    },
    {
      "cell_type": "markdown",
      "metadata": {
        "id": "O89dx5apqnal"
      },
      "source": [
        "# You are expected to get good val acc > 70% at least"
      ]
    },
    {
      "cell_type": "markdown",
      "metadata": {
        "id": "UPzjRtH6qtrg"
      },
      "source": [
        "\n",
        "\n",
        "---\n",
        "\n",
        "\n",
        "\n",
        "---\n",
        "\n",
        "\n",
        "\n",
        "---\n",
        "\n"
      ]
    }
  ]
}