{
 "cells": [
  {
   "cell_type": "code",
   "execution_count": 144,
   "metadata": {},
   "outputs": [],
   "source": [
    "from torch import Tensor\n",
    "import torch as torch\n",
    "import time as time"
   ]
  },
  {
   "cell_type": "markdown",
   "metadata": {},
   "source": [
    "### 1 Multiple views of a storage"
   ]
  },
  {
   "cell_type": "code",
   "execution_count": 145,
   "metadata": {},
   "outputs": [],
   "source": [
    "def multiple_views_storage():\n",
    "    x = torch.full((13, 13), 1)\n",
    "    x.narrow(0, 1, 1).fill_(2) \n",
    "    x.narrow(0, 6, 1).fill_(2)\n",
    "    x.narrow(0, 11, 1).fill_(2)\n",
    "    x.narrow(1, 1, 1).fill_(2)\n",
    "    x.narrow(1, 6, 1).fill_(2)\n",
    "    x.narrow(1, 11, 1).fill_(2)\n",
    "    z = x.narrow(0, 3, 2).narrow(1, 3, 2)\n",
    "    z.fill_(3)\n",
    "    z = x.narrow(0, 8, 2).narrow(1, 3, 2)\n",
    "    z.fill_(3)\n",
    "    z = x.narrow(0, 3, 2).narrow(1, 8, 2)\n",
    "    z.fill_(3)\n",
    "    z = x.narrow(0, 8, 2).narrow(1, 8, 2)\n",
    "    z.fill_(3)\n",
    "    return x"
   ]
  },
  {
   "cell_type": "code",
   "execution_count": 146,
   "metadata": {},
   "outputs": [
    {
     "data": {
      "text/plain": [
       "tensor([[1, 2, 1, 1, 1, 1, 2, 1, 1, 1, 1, 2, 1],\n",
       "        [2, 2, 2, 2, 2, 2, 2, 2, 2, 2, 2, 2, 2],\n",
       "        [1, 2, 1, 1, 1, 1, 2, 1, 1, 1, 1, 2, 1],\n",
       "        [1, 2, 1, 3, 3, 1, 2, 1, 3, 3, 1, 2, 1],\n",
       "        [1, 2, 1, 3, 3, 1, 2, 1, 3, 3, 1, 2, 1],\n",
       "        [1, 2, 1, 1, 1, 1, 2, 1, 1, 1, 1, 2, 1],\n",
       "        [2, 2, 2, 2, 2, 2, 2, 2, 2, 2, 2, 2, 2],\n",
       "        [1, 2, 1, 1, 1, 1, 2, 1, 1, 1, 1, 2, 1],\n",
       "        [1, 2, 1, 3, 3, 1, 2, 1, 3, 3, 1, 2, 1],\n",
       "        [1, 2, 1, 3, 3, 1, 2, 1, 3, 3, 1, 2, 1],\n",
       "        [1, 2, 1, 1, 1, 1, 2, 1, 1, 1, 1, 2, 1],\n",
       "        [2, 2, 2, 2, 2, 2, 2, 2, 2, 2, 2, 2, 2],\n",
       "        [1, 2, 1, 1, 1, 1, 2, 1, 1, 1, 1, 2, 1]])"
      ]
     },
     "execution_count": 146,
     "metadata": {},
     "output_type": "execute_result"
    }
   ],
   "source": [
    "multiple_views_storage()\n",
    "# x.narrow(dim, index, size)\n",
    "# axis = 1 means dimension 1 : columns\n",
    "# axis = 0 means dimension 0 : rows"
   ]
  },
  {
   "cell_type": "code",
   "execution_count": 147,
   "metadata": {},
   "outputs": [
    {
     "data": {
      "text/plain": [
       "tensor([[2],\n",
       "        [2],\n",
       "        [2],\n",
       "        [2],\n",
       "        [2],\n",
       "        [2],\n",
       "        [2],\n",
       "        [2],\n",
       "        [2],\n",
       "        [2],\n",
       "        [2],\n",
       "        [2],\n",
       "        [2]])"
      ]
     },
     "execution_count": 147,
     "metadata": {},
     "output_type": "execute_result"
    }
   ],
   "source": [
    "x = torch.full((13, 13), 1)\n",
    "x.narrow(1, 6, 1).fill_(2)"
   ]
  },
  {
   "cell_type": "markdown",
   "metadata": {},
   "source": [
    "### 2 Eigendecomposition"
   ]
  },
  {
   "cell_type": "code",
   "execution_count": 165,
   "metadata": {},
   "outputs": [
    {
     "data": {
      "text/plain": [
       "torch.return_types.eig(\n",
       "eigenvalues=tensor([[ 1.0000,  0.0000],\n",
       "        [ 2.0000,  0.0000],\n",
       "        [20.0000,  0.0000],\n",
       "        [ 3.0000,  0.0000],\n",
       "        [ 4.0000,  0.0000],\n",
       "        [ 5.0000,  0.0000],\n",
       "        [19.0000,  0.0000],\n",
       "        [18.0000,  0.0000],\n",
       "        [ 6.0000,  0.0000],\n",
       "        [ 7.0000,  0.0000],\n",
       "        [17.0000,  0.0000],\n",
       "        [ 8.0000,  0.0000],\n",
       "        [16.0000,  0.0000],\n",
       "        [ 9.0000,  0.0000],\n",
       "        [10.0000,  0.0000],\n",
       "        [15.0000,  0.0000],\n",
       "        [11.0000,  0.0000],\n",
       "        [12.0000,  0.0000],\n",
       "        [14.0000,  0.0000],\n",
       "        [13.0000,  0.0000]]),\n",
       "eigenvectors=tensor([]))"
      ]
     },
     "execution_count": 165,
     "metadata": {},
     "output_type": "execute_result"
    }
   ],
   "source": [
    "M = Tensor(20,20).normal_()\n",
    "M = Tensor.float(M)\n",
    "\n",
    "D = torch.diag(torch.arange(1, 21))\n",
    "D = Tensor.float(D)\n",
    "\n",
    "M_inv = Tensor.inverse(M)\n",
    "\n",
    "A = torch.mm(M_inv, torch.mm(D, M))\n",
    "\n",
    "Tensor.eig(A)"
   ]
  },
  {
   "cell_type": "markdown",
   "metadata": {},
   "source": [
    "## 3 Flops per second"
   ]
  },
  {
   "cell_type": "code",
   "execution_count": 166,
   "metadata": {},
   "outputs": [
    {
     "data": {
      "text/plain": [
       "66301151072.84794"
      ]
     },
     "execution_count": 166,
     "metadata": {},
     "output_type": "execute_result"
    }
   ],
   "source": [
    "A = Tensor(5000, 5000).normal_() # First square matrix of dimension 5000 × 5000\n",
    "\n",
    "B = Tensor(5000, 5000).normal_() # Seconde square matrix of dimension 5000 × 5000\n",
    "\n",
    "x_0 = time.perf_counter()\n",
    "\n",
    "torch.mm(A, B) # Product of A and B\n",
    "\n",
    "x_1 = time.perf_counter()\n",
    "\n",
    "time_estimation = 5000*5000*5000 / (x_1 - x_0) # matrix multiplication is approx. O(n^3)\n",
    "\n",
    "time_estimation"
   ]
  },
  {
   "cell_type": "markdown",
   "metadata": {},
   "source": [
    "## 4 Playing with strides"
   ]
  },
  {
   "cell_type": "code",
   "execution_count": 167,
   "metadata": {},
   "outputs": [],
   "source": [
    "def mul_row(x):\n",
    "    start_time = time.perf_counter()\n",
    "    nrows = (x.size())[0]\n",
    "    for i in range(nrows):\n",
    "        y = x.narrow(0, i, 1)\n",
    "        y *= (i+1)\n",
    "    end_time = time.perf_counter()\n",
    "    return end_time - start_time\n",
    "\n",
    "def mul_row_fast(x):\n",
    "    start_time = time.perf_counter()\n",
    "    nrows = (x.size())[0]\n",
    "    y = torch.arange(1, nrows+1).expand(x.size()[1], nrows).t()\n",
    "    end_time = time.perf_counter()\n",
    "    return end_time - start_time\n",
    "\n",
    "def part_four():\n",
    "    m = Tensor(10000, 400).fill_(2.0)\n",
    "    t1 = mul_row(m)\n",
    "    t2 = mul_row_fast(m)\n",
    "    return t1 / t2"
   ]
  },
  {
   "cell_type": "code",
   "execution_count": 168,
   "metadata": {},
   "outputs": [
    {
     "name": "stdout",
     "output_type": "stream",
     "text": [
      "Part four time(mul_row) / time(mul_row_fast) : 1592.1525473283482\n"
     ]
    }
   ],
   "source": [
    "print(\"Part four time(mul_row) / time(mul_row_fast) : {}\".format(part_four()))"
   ]
  },
  {
   "cell_type": "code",
   "execution_count": null,
   "metadata": {},
   "outputs": [],
   "source": []
  }
 ],
 "metadata": {
  "kernelspec": {
   "display_name": "Python 3",
   "language": "python",
   "name": "python3"
  },
  "language_info": {
   "codemirror_mode": {
    "name": "ipython",
    "version": 3
   },
   "file_extension": ".py",
   "mimetype": "text/x-python",
   "name": "python",
   "nbconvert_exporter": "python",
   "pygments_lexer": "ipython3",
   "version": "3.8.5"
  }
 },
 "nbformat": 4,
 "nbformat_minor": 4
}
