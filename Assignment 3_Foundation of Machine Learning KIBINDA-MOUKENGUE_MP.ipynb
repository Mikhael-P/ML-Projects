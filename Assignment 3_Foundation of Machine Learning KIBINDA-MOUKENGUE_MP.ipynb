{
 "cells": [
  {
   "cell_type": "markdown",
   "metadata": {},
   "source": [
    "## K-Means Clustering from Scratch"
   ]
  },
  {
   "cell_type": "code",
   "execution_count": 1059,
   "metadata": {},
   "outputs": [],
   "source": [
    "import numpy as np\n",
    "import pandas as pd\n",
    "import matplotlib.pyplot as plt\n",
    "import seaborn as sns\n",
    "from random import sample"
   ]
  },
  {
   "cell_type": "markdown",
   "metadata": {},
   "source": [
    "### Loading data"
   ]
  },
  {
   "cell_type": "code",
   "execution_count": 1060,
   "metadata": {},
   "outputs": [],
   "source": [
    "path = 'Data.csv'"
   ]
  },
  {
   "cell_type": "code",
   "execution_count": 1061,
   "metadata": {},
   "outputs": [],
   "source": [
    "def path_(path):\n",
    "    \n",
    "    data = pd.read_csv(path)\n",
    "    \n",
    "    data = (data - data.mean()) / data.std() # Standarization\n",
    "    return data"
   ]
  },
  {
   "cell_type": "code",
   "execution_count": 1062,
   "metadata": {},
   "outputs": [
    {
     "data": {
      "text/html": [
       "<div>\n",
       "<style scoped>\n",
       "    .dataframe tbody tr th:only-of-type {\n",
       "        vertical-align: middle;\n",
       "    }\n",
       "\n",
       "    .dataframe tbody tr th {\n",
       "        vertical-align: top;\n",
       "    }\n",
       "\n",
       "    .dataframe thead th {\n",
       "        text-align: right;\n",
       "    }\n",
       "</style>\n",
       "<table border=\"1\" class=\"dataframe\">\n",
       "  <thead>\n",
       "    <tr style=\"text-align: right;\">\n",
       "      <th></th>\n",
       "      <th>f1</th>\n",
       "      <th>f2</th>\n",
       "      <th>f3</th>\n",
       "      <th>f4</th>\n",
       "    </tr>\n",
       "  </thead>\n",
       "  <tbody>\n",
       "    <tr>\n",
       "      <th>0</th>\n",
       "      <td>-0.897674</td>\n",
       "      <td>1.015602</td>\n",
       "      <td>-1.335752</td>\n",
       "      <td>-1.311052</td>\n",
       "    </tr>\n",
       "    <tr>\n",
       "      <th>1</th>\n",
       "      <td>-1.139200</td>\n",
       "      <td>-0.131539</td>\n",
       "      <td>-1.335752</td>\n",
       "      <td>-1.311052</td>\n",
       "    </tr>\n",
       "    <tr>\n",
       "      <th>2</th>\n",
       "      <td>-1.380727</td>\n",
       "      <td>0.327318</td>\n",
       "      <td>-1.392399</td>\n",
       "      <td>-1.311052</td>\n",
       "    </tr>\n",
       "    <tr>\n",
       "      <th>3</th>\n",
       "      <td>-1.501490</td>\n",
       "      <td>0.097889</td>\n",
       "      <td>-1.279104</td>\n",
       "      <td>-1.311052</td>\n",
       "    </tr>\n",
       "    <tr>\n",
       "      <th>4</th>\n",
       "      <td>-1.018437</td>\n",
       "      <td>1.245030</td>\n",
       "      <td>-1.335752</td>\n",
       "      <td>-1.311052</td>\n",
       "    </tr>\n",
       "    <tr>\n",
       "      <th>...</th>\n",
       "      <td>...</td>\n",
       "      <td>...</td>\n",
       "      <td>...</td>\n",
       "      <td>...</td>\n",
       "    </tr>\n",
       "    <tr>\n",
       "      <th>145</th>\n",
       "      <td>1.034539</td>\n",
       "      <td>-0.131539</td>\n",
       "      <td>0.816859</td>\n",
       "      <td>1.443994</td>\n",
       "    </tr>\n",
       "    <tr>\n",
       "      <th>146</th>\n",
       "      <td>0.551486</td>\n",
       "      <td>-1.278680</td>\n",
       "      <td>0.703564</td>\n",
       "      <td>0.919223</td>\n",
       "    </tr>\n",
       "    <tr>\n",
       "      <th>147</th>\n",
       "      <td>0.793012</td>\n",
       "      <td>-0.131539</td>\n",
       "      <td>0.816859</td>\n",
       "      <td>1.050416</td>\n",
       "    </tr>\n",
       "    <tr>\n",
       "      <th>148</th>\n",
       "      <td>0.430722</td>\n",
       "      <td>0.786174</td>\n",
       "      <td>0.930154</td>\n",
       "      <td>1.443994</td>\n",
       "    </tr>\n",
       "    <tr>\n",
       "      <th>149</th>\n",
       "      <td>0.068433</td>\n",
       "      <td>-0.131539</td>\n",
       "      <td>0.760211</td>\n",
       "      <td>0.788031</td>\n",
       "    </tr>\n",
       "  </tbody>\n",
       "</table>\n",
       "<p>150 rows × 4 columns</p>\n",
       "</div>"
      ],
      "text/plain": [
       "           f1        f2        f3        f4\n",
       "0   -0.897674  1.015602 -1.335752 -1.311052\n",
       "1   -1.139200 -0.131539 -1.335752 -1.311052\n",
       "2   -1.380727  0.327318 -1.392399 -1.311052\n",
       "3   -1.501490  0.097889 -1.279104 -1.311052\n",
       "4   -1.018437  1.245030 -1.335752 -1.311052\n",
       "..        ...       ...       ...       ...\n",
       "145  1.034539 -0.131539  0.816859  1.443994\n",
       "146  0.551486 -1.278680  0.703564  0.919223\n",
       "147  0.793012 -0.131539  0.816859  1.050416\n",
       "148  0.430722  0.786174  0.930154  1.443994\n",
       "149  0.068433 -0.131539  0.760211  0.788031\n",
       "\n",
       "[150 rows x 4 columns]"
      ]
     },
     "execution_count": 1062,
     "metadata": {},
     "output_type": "execute_result"
    }
   ],
   "source": [
    "data = path_(path)\n",
    "data"
   ]
  },
  {
   "cell_type": "code",
   "execution_count": 1063,
   "metadata": {},
   "outputs": [
    {
     "data": {
      "text/html": [
       "<div>\n",
       "<style scoped>\n",
       "    .dataframe tbody tr th:only-of-type {\n",
       "        vertical-align: middle;\n",
       "    }\n",
       "\n",
       "    .dataframe tbody tr th {\n",
       "        vertical-align: top;\n",
       "    }\n",
       "\n",
       "    .dataframe thead th {\n",
       "        text-align: right;\n",
       "    }\n",
       "</style>\n",
       "<table border=\"1\" class=\"dataframe\">\n",
       "  <thead>\n",
       "    <tr style=\"text-align: right;\">\n",
       "      <th></th>\n",
       "      <th>count</th>\n",
       "      <th>mean</th>\n",
       "      <th>std</th>\n",
       "      <th>min</th>\n",
       "      <th>25%</th>\n",
       "      <th>50%</th>\n",
       "      <th>75%</th>\n",
       "      <th>max</th>\n",
       "    </tr>\n",
       "  </thead>\n",
       "  <tbody>\n",
       "    <tr>\n",
       "      <th>f1</th>\n",
       "      <td>150.0</td>\n",
       "      <td>-1.457168e-15</td>\n",
       "      <td>1.0</td>\n",
       "      <td>-1.863780</td>\n",
       "      <td>-0.897674</td>\n",
       "      <td>-0.052331</td>\n",
       "      <td>0.672249</td>\n",
       "      <td>2.483699</td>\n",
       "    </tr>\n",
       "    <tr>\n",
       "      <th>f2</th>\n",
       "      <td>150.0</td>\n",
       "      <td>-1.638319e-15</td>\n",
       "      <td>1.0</td>\n",
       "      <td>-2.425820</td>\n",
       "      <td>-0.590395</td>\n",
       "      <td>-0.131539</td>\n",
       "      <td>0.556746</td>\n",
       "      <td>3.080455</td>\n",
       "    </tr>\n",
       "    <tr>\n",
       "      <th>f3</th>\n",
       "      <td>150.0</td>\n",
       "      <td>-1.292300e-15</td>\n",
       "      <td>1.0</td>\n",
       "      <td>-1.562342</td>\n",
       "      <td>-1.222456</td>\n",
       "      <td>0.335354</td>\n",
       "      <td>0.760211</td>\n",
       "      <td>1.779869</td>\n",
       "    </tr>\n",
       "    <tr>\n",
       "      <th>f4</th>\n",
       "      <td>150.0</td>\n",
       "      <td>-5.543714e-16</td>\n",
       "      <td>1.0</td>\n",
       "      <td>-1.442245</td>\n",
       "      <td>-1.179859</td>\n",
       "      <td>0.132067</td>\n",
       "      <td>0.788031</td>\n",
       "      <td>1.706379</td>\n",
       "    </tr>\n",
       "  </tbody>\n",
       "</table>\n",
       "</div>"
      ],
      "text/plain": [
       "    count          mean  std       min       25%       50%       75%       max\n",
       "f1  150.0 -1.457168e-15  1.0 -1.863780 -0.897674 -0.052331  0.672249  2.483699\n",
       "f2  150.0 -1.638319e-15  1.0 -2.425820 -0.590395 -0.131539  0.556746  3.080455\n",
       "f3  150.0 -1.292300e-15  1.0 -1.562342 -1.222456  0.335354  0.760211  1.779869\n",
       "f4  150.0 -5.543714e-16  1.0 -1.442245 -1.179859  0.132067  0.788031  1.706379"
      ]
     },
     "execution_count": 1063,
     "metadata": {},
     "output_type": "execute_result"
    }
   ],
   "source": [
    "data.describe().T"
   ]
  },
  {
   "cell_type": "code",
   "execution_count": null,
   "metadata": {},
   "outputs": [],
   "source": []
  },
  {
   "cell_type": "code",
   "execution_count": 1114,
   "metadata": {},
   "outputs": [],
   "source": [
    "class K_Means:\n",
    "    def __init__(self, k=3, tol=0.001, max_iter=300):\n",
    "        self.k = k\n",
    "        self.tol = tol\n",
    "        self.max_iter = max_iter\n",
    "\n",
    "    def fit(self,data):\n",
    "\n",
    "        self.centroids = {}\n",
    "\n",
    "        for i in range(self.k):\n",
    "            self.centroids[i%self.k] = data[i%self.k]\n",
    "            #print(self.centroids[i%self.k])\n",
    "\n",
    "        for i in range(self.max_iter):\n",
    "            self.classifications = {}\n",
    "\n",
    "            for i in range(self.k):\n",
    "                self.classifications[i] = []\n",
    "\n",
    "            for featureset in range(len(data)):\n",
    "                distances = [np.linalg.norm(data[featureset]-self.centroids[centroid]) for centroid in self.centroids]\n",
    "                classification = distances.index(min(distances))\n",
    "                self.classifications[classification].append(featureset)\n",
    "\n",
    "            prev_centroids = dict(self.centroids)\n",
    "\n",
    "            for classification in self.classifications:\n",
    "    \n",
    "                self.centroids[classification] = np.average(data[self.classifications[classification],:],axis=0)\n",
    "                \n",
    "        return self.centroids, self.classifications"
   ]
  },
  {
   "cell_type": "code",
   "execution_count": null,
   "metadata": {},
   "outputs": [],
   "source": []
  },
  {
   "cell_type": "code",
   "execution_count": 1115,
   "metadata": {},
   "outputs": [],
   "source": [
    "clf = K_Means(k=3, tol=0.001, max_iter=300)\n",
    "\n",
    "centroids, classes = clf.fit(data.values)"
   ]
  },
  {
   "cell_type": "code",
   "execution_count": null,
   "metadata": {},
   "outputs": [],
   "source": []
  },
  {
   "cell_type": "code",
   "execution_count": 1116,
   "metadata": {},
   "outputs": [
    {
     "data": {
      "text/plain": [
       "{0: array([1.16353612, 0.14481784, 0.99967656, 1.02656282]),\n",
       " 1: array([-0.0113575 , -0.8730834 ,  0.37581671,  0.3101145 ]),\n",
       " 2: array([-1.01119138,  0.85041372, -1.30063009, -1.25070352])}"
      ]
     },
     "execution_count": 1116,
     "metadata": {},
     "output_type": "execute_result"
    }
   ],
   "source": [
    "centroids"
   ]
  },
  {
   "cell_type": "code",
   "execution_count": 1117,
   "metadata": {},
   "outputs": [],
   "source": [
    "def to_array(x):\n",
    "    centres=[]\n",
    "    for i in range(len(x.keys())):\n",
    "        centres.append(list(x[i]))\n",
    "    return np.array(centres)"
   ]
  },
  {
   "cell_type": "code",
   "execution_count": 1118,
   "metadata": {},
   "outputs": [],
   "source": [
    "centres =to_array(centroids)"
   ]
  },
  {
   "cell_type": "code",
   "execution_count": null,
   "metadata": {},
   "outputs": [],
   "source": []
  },
  {
   "cell_type": "code",
   "execution_count": 1119,
   "metadata": {},
   "outputs": [],
   "source": [
    "label_s = []\n",
    "index_list = []\n",
    "\n",
    "for i in range(len(classes.keys())):\n",
    "    label_s.extend([list(classes.keys())[i] for j in range(len(classes[i]))])\n",
    "    index_list.extend(classes[i])\n",
    "    \n",
    "data_new = data.iloc[index_list, [i for i in range(data.shape[1])]]\n",
    "data_new[\"labels\"] = label_s"
   ]
  },
  {
   "cell_type": "code",
   "execution_count": 1120,
   "metadata": {},
   "outputs": [
    {
     "data": {
      "text/html": [
       "<div>\n",
       "<style scoped>\n",
       "    .dataframe tbody tr th:only-of-type {\n",
       "        vertical-align: middle;\n",
       "    }\n",
       "\n",
       "    .dataframe tbody tr th {\n",
       "        vertical-align: top;\n",
       "    }\n",
       "\n",
       "    .dataframe thead th {\n",
       "        text-align: right;\n",
       "    }\n",
       "</style>\n",
       "<table border=\"1\" class=\"dataframe\">\n",
       "  <thead>\n",
       "    <tr style=\"text-align: right;\">\n",
       "      <th></th>\n",
       "      <th>f1</th>\n",
       "      <th>f2</th>\n",
       "      <th>f3</th>\n",
       "      <th>f4</th>\n",
       "      <th>labels</th>\n",
       "    </tr>\n",
       "  </thead>\n",
       "  <tbody>\n",
       "    <tr>\n",
       "      <th>50</th>\n",
       "      <td>1.396829</td>\n",
       "      <td>0.327318</td>\n",
       "      <td>0.533621</td>\n",
       "      <td>0.263260</td>\n",
       "      <td>0</td>\n",
       "    </tr>\n",
       "    <tr>\n",
       "      <th>51</th>\n",
       "      <td>0.672249</td>\n",
       "      <td>0.327318</td>\n",
       "      <td>0.420326</td>\n",
       "      <td>0.394453</td>\n",
       "      <td>0</td>\n",
       "    </tr>\n",
       "    <tr>\n",
       "      <th>52</th>\n",
       "      <td>1.276066</td>\n",
       "      <td>0.097889</td>\n",
       "      <td>0.646916</td>\n",
       "      <td>0.394453</td>\n",
       "      <td>0</td>\n",
       "    </tr>\n",
       "    <tr>\n",
       "      <th>56</th>\n",
       "      <td>0.551486</td>\n",
       "      <td>0.556746</td>\n",
       "      <td>0.533621</td>\n",
       "      <td>0.525645</td>\n",
       "      <td>0</td>\n",
       "    </tr>\n",
       "    <tr>\n",
       "      <th>65</th>\n",
       "      <td>1.034539</td>\n",
       "      <td>0.097889</td>\n",
       "      <td>0.363678</td>\n",
       "      <td>0.263260</td>\n",
       "      <td>0</td>\n",
       "    </tr>\n",
       "    <tr>\n",
       "      <th>...</th>\n",
       "      <td>...</td>\n",
       "      <td>...</td>\n",
       "      <td>...</td>\n",
       "      <td>...</td>\n",
       "      <td>...</td>\n",
       "    </tr>\n",
       "    <tr>\n",
       "      <th>45</th>\n",
       "      <td>-1.259964</td>\n",
       "      <td>-0.131539</td>\n",
       "      <td>-1.335752</td>\n",
       "      <td>-1.179859</td>\n",
       "      <td>2</td>\n",
       "    </tr>\n",
       "    <tr>\n",
       "      <th>46</th>\n",
       "      <td>-0.897674</td>\n",
       "      <td>1.703886</td>\n",
       "      <td>-1.222456</td>\n",
       "      <td>-1.311052</td>\n",
       "      <td>2</td>\n",
       "    </tr>\n",
       "    <tr>\n",
       "      <th>47</th>\n",
       "      <td>-1.501490</td>\n",
       "      <td>0.327318</td>\n",
       "      <td>-1.335752</td>\n",
       "      <td>-1.311052</td>\n",
       "      <td>2</td>\n",
       "    </tr>\n",
       "    <tr>\n",
       "      <th>48</th>\n",
       "      <td>-0.656147</td>\n",
       "      <td>1.474458</td>\n",
       "      <td>-1.279104</td>\n",
       "      <td>-1.311052</td>\n",
       "      <td>2</td>\n",
       "    </tr>\n",
       "    <tr>\n",
       "      <th>49</th>\n",
       "      <td>-1.018437</td>\n",
       "      <td>0.556746</td>\n",
       "      <td>-1.335752</td>\n",
       "      <td>-1.311052</td>\n",
       "      <td>2</td>\n",
       "    </tr>\n",
       "  </tbody>\n",
       "</table>\n",
       "<p>150 rows × 5 columns</p>\n",
       "</div>"
      ],
      "text/plain": [
       "          f1        f2        f3        f4  labels\n",
       "50  1.396829  0.327318  0.533621  0.263260       0\n",
       "51  0.672249  0.327318  0.420326  0.394453       0\n",
       "52  1.276066  0.097889  0.646916  0.394453       0\n",
       "56  0.551486  0.556746  0.533621  0.525645       0\n",
       "65  1.034539  0.097889  0.363678  0.263260       0\n",
       "..       ...       ...       ...       ...     ...\n",
       "45 -1.259964 -0.131539 -1.335752 -1.179859       2\n",
       "46 -0.897674  1.703886 -1.222456 -1.311052       2\n",
       "47 -1.501490  0.327318 -1.335752 -1.311052       2\n",
       "48 -0.656147  1.474458 -1.279104 -1.311052       2\n",
       "49 -1.018437  0.556746 -1.335752 -1.311052       2\n",
       "\n",
       "[150 rows x 5 columns]"
      ]
     },
     "execution_count": 1120,
     "metadata": {},
     "output_type": "execute_result"
    }
   ],
   "source": [
    "data_new"
   ]
  },
  {
   "cell_type": "code",
   "execution_count": null,
   "metadata": {},
   "outputs": [],
   "source": []
  },
  {
   "cell_type": "code",
   "execution_count": 1121,
   "metadata": {},
   "outputs": [
    {
     "data": {
      "text/plain": [
       "Text(0.5, 1.0, 'Plot of the data into clusters')"
      ]
     },
     "execution_count": 1121,
     "metadata": {},
     "output_type": "execute_result"
    },
    {
     "data": {
      "image/png": "[encoded data removed]",
      "text/plain": [
       "<Figure size 1152x432 with 1 Axes>"
      ]
     },
     "metadata": {
      "needs_background": "light"
     },
     "output_type": "display_data"
    }
   ],
   "source": [
    "l_labels = np.unique(label_s)\n",
    "\n",
    "plt.figure(figsize=(16,6))\n",
    "\n",
    "for i in l_labels:\n",
    "    plt.scatter(data_new.loc[data_new['labels'] == i, 'f1'], data_new.loc[data_new['labels'] == i, 'f4'], label = i)\n",
    "    \n",
    "plt.scatter(centres[:,0], centres[:,3], s = 80, color = 'k', marker='*')\n",
    "plt.legend()\n",
    "plt.xlabel(\"f1\")\n",
    "plt.ylabel(\"f4\")\n",
    "plt.title(\"Plot of the data into clusters\")"
   ]
  },
  {
   "cell_type": "code",
   "execution_count": null,
   "metadata": {},
   "outputs": [],
   "source": []
  },
  {
   "cell_type": "code",
   "execution_count": null,
   "metadata": {},
   "outputs": [],
   "source": []
  },
  {
   "cell_type": "markdown",
   "metadata": {},
   "source": [
    "# PCA from Scratch"
   ]
  },
  {
   "cell_type": "code",
   "execution_count": null,
   "metadata": {},
   "outputs": [],
   "source": []
  },
  {
   "cell_type": "code",
   "execution_count": 901,
   "metadata": {},
   "outputs": [],
   "source": [
    "class PCA:\n",
    "    \n",
    "    def __init__(self, X):\n",
    "        self.X = X\n",
    "# cov_mat = data.cov()\n",
    "# cov_mat\n",
    "\n",
    "    def fit_PCA(self):\n",
    "        \n",
    "        conv_mat = (1/len(self.X))*(self.X.T @ self.X + 1)\n",
    "        \n",
    "        eig_vals, eig_vecs = np.linalg.eig(cov_mat)\n",
    "        \n",
    "        #axe = np.arange(4)+1\n",
    "\n",
    "        # Creating a 2 dimensional numpy array\n",
    "        #df = np.array([axe, eig_vals])\n",
    "        \n",
    "        dic__ = {'axe' : np.arange(4)+1,\n",
    "        'eigen_values' : eig_vals\n",
    "        }\n",
    "        pdv = pd.DataFrame(dic__)\n",
    "        pdv['proportion'] = pdv['eigen_values']/pdv['eigen_values'].sum()*100\n",
    "        pdv['pct_cumule'] = pdv['proportion'].cumsum()\n",
    "        \n",
    "        top2eig = eig_vecs[:,0:2] # Two top eigenvalues\n",
    "        \n",
    "        new_data = self.X @ top2eig # transsform data projection\n",
    "        \n",
    "        #creating a new dataframe including target\n",
    "        new_df = pd.DataFrame(np.hstack((new_data,np.array(data_new[[\"labels\"]]).reshape(-1,1))),columns=['F1','F2','labels'])\n",
    "        \n",
    "        return new_df\n",
    "    \n",
    "    def plotting_pca(self):\n",
    "        \n",
    "        new_df = self.fit_PCA()\n",
    "        \n",
    "        \n",
    "        #plotting data\n",
    "\n",
    "        lb = np.unique(new_df['labels'])\n",
    "\n",
    "        plt.figure(figsize=(16,9))\n",
    "        for i in lb:\n",
    "            plt.scatter(new_df.loc[new_df['labels'] == i, \"F1\"], new_df.loc[new_df['labels'] == i, \"F2\"], label = i)\n",
    "\n",
    "            plt.title('Result of PCA for 2 component')\n",
    "            plt.xlabel(\"F1\")\n",
    "            plt.ylabel(\"F2\")\n",
    "\n",
    "            plt.legend()\n",
    "        plt.show()"
   ]
  },
  {
   "cell_type": "code",
   "execution_count": 902,
   "metadata": {},
   "outputs": [],
   "source": [
    "pca = PCA(data)"
   ]
  },
  {
   "cell_type": "code",
   "execution_count": 903,
   "metadata": {},
   "outputs": [
    {
     "data": {
      "text/html": [
       "<div>\n",
       "<style scoped>\n",
       "    .dataframe tbody tr th:only-of-type {\n",
       "        vertical-align: middle;\n",
       "    }\n",
       "\n",
       "    .dataframe tbody tr th {\n",
       "        vertical-align: top;\n",
       "    }\n",
       "\n",
       "    .dataframe thead th {\n",
       "        text-align: right;\n",
       "    }\n",
       "</style>\n",
       "<table border=\"1\" class=\"dataframe\">\n",
       "  <thead>\n",
       "    <tr style=\"text-align: right;\">\n",
       "      <th></th>\n",
       "      <th>F1</th>\n",
       "      <th>F2</th>\n",
       "      <th>labels</th>\n",
       "    </tr>\n",
       "  </thead>\n",
       "  <tbody>\n",
       "    <tr>\n",
       "      <th>0</th>\n",
       "      <td>-2.254117</td>\n",
       "      <td>-0.492629</td>\n",
       "      <td>0.0</td>\n",
       "    </tr>\n",
       "    <tr>\n",
       "      <th>1</th>\n",
       "      <td>-2.078629</td>\n",
       "      <td>0.659333</td>\n",
       "      <td>0.0</td>\n",
       "    </tr>\n",
       "    <tr>\n",
       "      <th>2</th>\n",
       "      <td>-2.358471</td>\n",
       "      <td>0.325283</td>\n",
       "      <td>0.0</td>\n",
       "    </tr>\n",
       "    <tr>\n",
       "      <th>3</th>\n",
       "      <td>-2.295412</td>\n",
       "      <td>0.580027</td>\n",
       "      <td>0.0</td>\n",
       "    </tr>\n",
       "    <tr>\n",
       "      <th>4</th>\n",
       "      <td>-2.377580</td>\n",
       "      <td>-0.660287</td>\n",
       "      <td>0.0</td>\n",
       "    </tr>\n",
       "    <tr>\n",
       "      <th>...</th>\n",
       "      <td>...</td>\n",
       "      <td>...</td>\n",
       "      <td>...</td>\n",
       "    </tr>\n",
       "    <tr>\n",
       "      <th>145</th>\n",
       "      <td>1.866813</td>\n",
       "      <td>-0.373873</td>\n",
       "      <td>2.0</td>\n",
       "    </tr>\n",
       "    <tr>\n",
       "      <th>146</th>\n",
       "      <td>1.553376</td>\n",
       "      <td>0.904239</td>\n",
       "      <td>2.0</td>\n",
       "    </tr>\n",
       "    <tr>\n",
       "      <th>147</th>\n",
       "      <td>1.517934</td>\n",
       "      <td>-0.258756</td>\n",
       "      <td>2.0</td>\n",
       "    </tr>\n",
       "    <tr>\n",
       "      <th>148</th>\n",
       "      <td>1.375676</td>\n",
       "      <td>-1.002232</td>\n",
       "      <td>2.0</td>\n",
       "    </tr>\n",
       "    <tr>\n",
       "      <th>149</th>\n",
       "      <td>0.957881</td>\n",
       "      <td>0.028368</td>\n",
       "      <td>2.0</td>\n",
       "    </tr>\n",
       "  </tbody>\n",
       "</table>\n",
       "<p>150 rows × 3 columns</p>\n",
       "</div>"
      ],
      "text/plain": [
       "           F1        F2  labels\n",
       "0   -2.254117 -0.492629     0.0\n",
       "1   -2.078629  0.659333     0.0\n",
       "2   -2.358471  0.325283     0.0\n",
       "3   -2.295412  0.580027     0.0\n",
       "4   -2.377580 -0.660287     0.0\n",
       "..        ...       ...     ...\n",
       "145  1.866813 -0.373873     2.0\n",
       "146  1.553376  0.904239     2.0\n",
       "147  1.517934 -0.258756     2.0\n",
       "148  1.375676 -1.002232     2.0\n",
       "149  0.957881  0.028368     2.0\n",
       "\n",
       "[150 rows x 3 columns]"
      ]
     },
     "execution_count": 903,
     "metadata": {},
     "output_type": "execute_result"
    }
   ],
   "source": [
    "pca.fit_PCA()"
   ]
  },
  {
   "cell_type": "code",
   "execution_count": 904,
   "metadata": {},
   "outputs": [
    {
     "data": {
      "image/png": "[encoded data removed]",
      "text/plain": [
       "<Figure size 1152x648 with 1 Axes>"
      ]
     },
     "metadata": {
      "needs_background": "light"
     },
     "output_type": "display_data"
    }
   ],
   "source": [
    "pca.plotting_pca()"
   ]
  },
  {
   "cell_type": "code",
   "execution_count": null,
   "metadata": {},
   "outputs": [],
   "source": []
  },
  {
   "cell_type": "code",
   "execution_count": null,
   "metadata": {},
   "outputs": [],
   "source": []
  },
  {
   "cell_type": "code",
   "execution_count": null,
   "metadata": {},
   "outputs": [],
   "source": []
  },
  {
   "cell_type": "code",
   "execution_count": null,
   "metadata": {},
   "outputs": [],
   "source": []
  },
  {
   "cell_type": "code",
   "execution_count": 925,
   "metadata": {},
   "outputs": [],
   "source": []
  },
  {
   "cell_type": "code",
   "execution_count": null,
   "metadata": {},
   "outputs": [],
   "source": []
  },
  {
   "cell_type": "code",
   "execution_count": null,
   "metadata": {},
   "outputs": [],
   "source": []
  }
 ],
 "metadata": {
  "kernelspec": {
   "display_name": "Python 3",
   "language": "python",
   "name": "python3"
  },
  "language_info": {
   "codemirror_mode": {
    "name": "ipython",
    "version": 3
   },
   "file_extension": ".py",
   "mimetype": "text/x-python",
   "name": "python",
   "nbconvert_exporter": "python",
   "pygments_lexer": "ipython3",
   "version": "3.8.5"
  }
 },
 "nbformat": 4,
 "nbformat_minor": 4
}
