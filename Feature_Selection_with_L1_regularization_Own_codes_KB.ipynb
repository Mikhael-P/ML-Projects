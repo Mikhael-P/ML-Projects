{
 "cells": [
  {
   "cell_type": "markdown",
   "metadata": {
    "id": "SxzR9Eli9Z0S"
   },
   "source": [
    "# Feature selection with L1 Regularization"
   ]
  },
  {
   "cell_type": "markdown",
   "metadata": {
    "id": "MK2qVQww9rSg"
   },
   "source": [
    "* Consider a supervised learning setting where you have data $\\mathcal{D} = \\{(X, Y)\\}$, where $X \\in \\mathbb{R}^{NXD}$. $N$  - num of datapoints and $D$ - num of features. Many of the features may be irrelevant for the task at hand.\n",
    "* Typically when there are more features than samples, ie. $D >> N$, a simple linear regression model is prone to overfit.\n",
    "* As we have seen before, regularization is one of the tools in our toolbox to combat overfitting. Here we will see how they do that and how $L1$ regularization can be used for feature selection."
   ]
  },
  {
   "cell_type": "markdown",
   "metadata": {
    "id": "bHl0lb8A_MWd"
   },
   "source": [
    "## Tasks\n",
    "\n",
    "1.  Load the data \"cancer_reg.csv\" data from [here](https://data.world/nrippner/ols-regression-challenge). A slightly modified copy will be shared with you on workplace.\n",
    "2. Preprocess your data particularly making sure there are no nan values.\n",
    "3. Split the data into 20\\% train and 80\\% test sets.\n",
    "4. Define your linear regression model with and without regularization ($L1$ and $L2$)\n",
    "5. Train and test your linear regression models (without regularization) till it overfits the data. Plot the learning curves for training and testing (You may ignore loss values for the first 10 epochs)\n",
    "6. Train and test again with regularization and visually inspect the effects.\n",
    "7. Plot the weights for each model (using matplotlib stem plot). Do you see any difference between them?\n",
    "8. In the case of the $L1$ regularization, set a small threshold and remove all features of the data corresponding to the weights with values below this threshold.\n",
    "9. Train a new model with remaining features (with or without regularization)\n"
   ]
  },
  {
   "cell_type": "code",
   "execution_count": 1,
   "metadata": {
    "colab": {
     "base_uri": "https://localhost:8080/"
    },
    "id": "jmI4zUbsaQEa",
    "outputId": "6c3361cc-ddbd-4466-d310-89541ed125c8"
   },
   "outputs": [],
   "source": [
    "# from google.colab import drive\n",
    "# drive.mount('/content/drive')"
   ]
  },
  {
   "cell_type": "markdown",
   "metadata": {
    "id": "LhpCA8lXcqDF"
   },
   "source": [
    "### 1. Load the data"
   ]
  },
  {
   "cell_type": "code",
   "execution_count": 1487,
   "metadata": {
    "colab": {
     "base_uri": "https://localhost:8080/",
     "height": 270
    },
    "id": "PmMz0oqMU5PJ",
    "outputId": "f649152a-941f-48d8-a8ee-7c18a3e241a9"
   },
   "outputs": [
    {
     "data": {
      "text/html": [
       "<div>\n",
       "<style scoped>\n",
       "    .dataframe tbody tr th:only-of-type {\n",
       "        vertical-align: middle;\n",
       "    }\n",
       "\n",
       "    .dataframe tbody tr th {\n",
       "        vertical-align: top;\n",
       "    }\n",
       "\n",
       "    .dataframe thead th {\n",
       "        text-align: right;\n",
       "    }\n",
       "</style>\n",
       "<table border=\"1\" class=\"dataframe\">\n",
       "  <thead>\n",
       "    <tr style=\"text-align: right;\">\n",
       "      <th></th>\n",
       "      <th>avgAnnCount</th>\n",
       "      <th>avgDeathsPerYear</th>\n",
       "      <th>TARGET_deathRate</th>\n",
       "      <th>incidenceRate</th>\n",
       "      <th>medIncome</th>\n",
       "      <th>popEst2015</th>\n",
       "      <th>povertyPercent</th>\n",
       "      <th>studyPerCap</th>\n",
       "      <th>MedianAge</th>\n",
       "      <th>MedianAgeMale</th>\n",
       "      <th>...</th>\n",
       "      <th>PctMarriedHouseholds-8</th>\n",
       "      <th>PctMarriedHouseholds-9</th>\n",
       "      <th>BirthRate-2</th>\n",
       "      <th>BirthRate-3</th>\n",
       "      <th>BirthRate-4</th>\n",
       "      <th>BirthRate-5</th>\n",
       "      <th>BirthRate-6</th>\n",
       "      <th>BirthRate-7</th>\n",
       "      <th>BirthRate-8</th>\n",
       "      <th>BirthRate-9</th>\n",
       "    </tr>\n",
       "  </thead>\n",
       "  <tbody>\n",
       "    <tr>\n",
       "      <th>0</th>\n",
       "      <td>1397.0</td>\n",
       "      <td>469</td>\n",
       "      <td>164.9</td>\n",
       "      <td>489.8</td>\n",
       "      <td>61898</td>\n",
       "      <td>260131</td>\n",
       "      <td>11.2</td>\n",
       "      <td>499.748204</td>\n",
       "      <td>39.3</td>\n",
       "      <td>36.9</td>\n",
       "      <td>...</td>\n",
       "      <td>6.091992e+13</td>\n",
       "      <td>3.219988e+15</td>\n",
       "      <td>37.440093</td>\n",
       "      <td>229.089604</td>\n",
       "      <td>1401.760576</td>\n",
       "      <td>8577.136107</td>\n",
       "      <td>52482.046553</td>\n",
       "      <td>321128.774915</td>\n",
       "      <td>1.964933e+06</td>\n",
       "      <td>1.202309e+07</td>\n",
       "    </tr>\n",
       "    <tr>\n",
       "      <th>1</th>\n",
       "      <td>173.0</td>\n",
       "      <td>70</td>\n",
       "      <td>161.3</td>\n",
       "      <td>411.6</td>\n",
       "      <td>48127</td>\n",
       "      <td>43269</td>\n",
       "      <td>18.6</td>\n",
       "      <td>23.111234</td>\n",
       "      <td>33.0</td>\n",
       "      <td>32.2</td>\n",
       "      <td>...</td>\n",
       "      <td>1.796146e+13</td>\n",
       "      <td>8.149565e+14</td>\n",
       "      <td>18.775717</td>\n",
       "      <td>81.356978</td>\n",
       "      <td>352.527560</td>\n",
       "      <td>1527.535610</td>\n",
       "      <td>6618.957797</td>\n",
       "      <td>28680.576760</td>\n",
       "      <td>1.242757e+05</td>\n",
       "      <td>5.384984e+05</td>\n",
       "    </tr>\n",
       "    <tr>\n",
       "      <th>2</th>\n",
       "      <td>102.0</td>\n",
       "      <td>50</td>\n",
       "      <td>174.7</td>\n",
       "      <td>349.7</td>\n",
       "      <td>49348</td>\n",
       "      <td>21026</td>\n",
       "      <td>14.6</td>\n",
       "      <td>47.560164</td>\n",
       "      <td>45.0</td>\n",
       "      <td>44.0</td>\n",
       "      <td>...</td>\n",
       "      <td>7.720681e+13</td>\n",
       "      <td>4.203515e+15</td>\n",
       "      <td>13.909079</td>\n",
       "      <td>51.873742</td>\n",
       "      <td>193.462489</td>\n",
       "      <td>721.515996</td>\n",
       "      <td>2690.885118</td>\n",
       "      <td>10035.623263</td>\n",
       "      <td>3.742773e+04</td>\n",
       "      <td>1.395863e+05</td>\n",
       "    </tr>\n",
       "    <tr>\n",
       "      <th>3</th>\n",
       "      <td>427.0</td>\n",
       "      <td>202</td>\n",
       "      <td>194.8</td>\n",
       "      <td>430.4</td>\n",
       "      <td>44243</td>\n",
       "      <td>75882</td>\n",
       "      <td>17.1</td>\n",
       "      <td>342.637253</td>\n",
       "      <td>42.8</td>\n",
       "      <td>42.2</td>\n",
       "      <td>...</td>\n",
       "      <td>4.592263e+13</td>\n",
       "      <td>2.343042e+15</td>\n",
       "      <td>21.195350</td>\n",
       "      <td>97.580016</td>\n",
       "      <td>449.242856</td>\n",
       "      <td>2068.242577</td>\n",
       "      <td>9521.859503</td>\n",
       "      <td>43837.125013</td>\n",
       "      <td>2.018191e+05</td>\n",
       "      <td>9.291432e+05</td>\n",
       "    </tr>\n",
       "    <tr>\n",
       "      <th>4</th>\n",
       "      <td>57.0</td>\n",
       "      <td>26</td>\n",
       "      <td>144.4</td>\n",
       "      <td>350.1</td>\n",
       "      <td>49955</td>\n",
       "      <td>10321</td>\n",
       "      <td>12.5</td>\n",
       "      <td>0.000000</td>\n",
       "      <td>48.3</td>\n",
       "      <td>47.8</td>\n",
       "      <td>...</td>\n",
       "      <td>7.259662e+13</td>\n",
       "      <td>3.922211e+15</td>\n",
       "      <td>46.194552</td>\n",
       "      <td>313.968540</td>\n",
       "      <td>2133.936595</td>\n",
       "      <td>14503.635908</td>\n",
       "      <td>98576.244063</td>\n",
       "      <td>669988.956897</td>\n",
       "      <td>4.553685e+06</td>\n",
       "      <td>3.094984e+07</td>\n",
       "    </tr>\n",
       "  </tbody>\n",
       "</table>\n",
       "<p>5 rows × 280 columns</p>\n",
       "</div>"
      ],
      "text/plain": [
       "   avgAnnCount  avgDeathsPerYear  TARGET_deathRate  incidenceRate  medIncome  \\\n",
       "0       1397.0               469             164.9          489.8      61898   \n",
       "1        173.0                70             161.3          411.6      48127   \n",
       "2        102.0                50             174.7          349.7      49348   \n",
       "3        427.0               202             194.8          430.4      44243   \n",
       "4         57.0                26             144.4          350.1      49955   \n",
       "\n",
       "   popEst2015  povertyPercent  studyPerCap  MedianAge  MedianAgeMale  ...  \\\n",
       "0      260131            11.2   499.748204       39.3           36.9  ...   \n",
       "1       43269            18.6    23.111234       33.0           32.2  ...   \n",
       "2       21026            14.6    47.560164       45.0           44.0  ...   \n",
       "3       75882            17.1   342.637253       42.8           42.2  ...   \n",
       "4       10321            12.5     0.000000       48.3           47.8  ...   \n",
       "\n",
       "   PctMarriedHouseholds-8  PctMarriedHouseholds-9  BirthRate-2  BirthRate-3  \\\n",
       "0            6.091992e+13            3.219988e+15    37.440093   229.089604   \n",
       "1            1.796146e+13            8.149565e+14    18.775717    81.356978   \n",
       "2            7.720681e+13            4.203515e+15    13.909079    51.873742   \n",
       "3            4.592263e+13            2.343042e+15    21.195350    97.580016   \n",
       "4            7.259662e+13            3.922211e+15    46.194552   313.968540   \n",
       "\n",
       "   BirthRate-4   BirthRate-5   BirthRate-6    BirthRate-7   BirthRate-8  \\\n",
       "0  1401.760576   8577.136107  52482.046553  321128.774915  1.964933e+06   \n",
       "1   352.527560   1527.535610   6618.957797   28680.576760  1.242757e+05   \n",
       "2   193.462489    721.515996   2690.885118   10035.623263  3.742773e+04   \n",
       "3   449.242856   2068.242577   9521.859503   43837.125013  2.018191e+05   \n",
       "4  2133.936595  14503.635908  98576.244063  669988.956897  4.553685e+06   \n",
       "\n",
       "    BirthRate-9  \n",
       "0  1.202309e+07  \n",
       "1  5.384984e+05  \n",
       "2  1.395863e+05  \n",
       "3  9.291432e+05  \n",
       "4  3.094984e+07  \n",
       "\n",
       "[5 rows x 280 columns]"
      ]
     },
     "execution_count": 1487,
     "metadata": {},
     "output_type": "execute_result"
    }
   ],
   "source": [
    "import pandas as pd\n",
    "import numpy as np\n",
    "import matplotlib.pyplot as plt\n",
    "data = pd.read_csv('cancer-mortality-rate.csv', index_col = 0)\n",
    "data.head()"
   ]
  },
  {
   "cell_type": "code",
   "execution_count": 1488,
   "metadata": {
    "colab": {
     "base_uri": "https://localhost:8080/"
    },
    "id": "HFlTxABPZTJD",
    "outputId": "3dd9fbe6-02d2-459d-a7e1-c89c3fa7e04c"
   },
   "outputs": [
    {
     "data": {
      "text/plain": [
       "(3047, 280)"
      ]
     },
     "execution_count": 1488,
     "metadata": {},
     "output_type": "execute_result"
    }
   ],
   "source": [
    "data.shape"
   ]
  },
  {
   "cell_type": "markdown",
   "metadata": {
    "id": "gAYUbQsLcyKM"
   },
   "source": [
    "### 2. Preprocess data"
   ]
  },
  {
   "cell_type": "code",
   "execution_count": 1489,
   "metadata": {
    "colab": {
     "base_uri": "https://localhost:8080/"
    },
    "id": "eLpShOsSfCbQ",
    "outputId": "3277e2a4-44d1-497b-8f64-ff976bdf1ddb",
    "scrolled": true
   },
   "outputs": [
    {
     "data": {
      "text/plain": [
       "<bound method DataFrame.info of       avgAnnCount  avgDeathsPerYear  TARGET_deathRate  incidenceRate  \\\n",
       "0     1397.000000               469             164.9     489.800000   \n",
       "1      173.000000                70             161.3     411.600000   \n",
       "2      102.000000                50             174.7     349.700000   \n",
       "3      427.000000               202             194.8     430.400000   \n",
       "4       57.000000                26             144.4     350.100000   \n",
       "...           ...               ...               ...            ...   \n",
       "3042  1962.667684                15             149.6     453.549422   \n",
       "3043  1962.667684                43             150.1     453.549422   \n",
       "3044  1962.667684                46             153.9     453.549422   \n",
       "3045  1962.667684                52             175.0     453.549422   \n",
       "3046  1962.667684                48             213.6     453.549422   \n",
       "\n",
       "      medIncome  popEst2015  povertyPercent  studyPerCap  MedianAge  \\\n",
       "0         61898      260131            11.2   499.748204       39.3   \n",
       "1         48127       43269            18.6    23.111234       33.0   \n",
       "2         49348       21026            14.6    47.560164       45.0   \n",
       "3         44243       75882            17.1   342.637253       42.8   \n",
       "4         49955       10321            12.5     0.000000       48.3   \n",
       "...         ...         ...             ...          ...        ...   \n",
       "3042      46961        6343            12.4     0.000000       44.2   \n",
       "3043      48609       37118            18.8   377.175494       30.4   \n",
       "3044      51144       34536            15.0  1968.959926       30.9   \n",
       "3045      50745       25609            13.3     0.000000       39.0   \n",
       "3046      41193       37030            13.9     0.000000       26.2   \n",
       "\n",
       "      MedianAgeMale  ...  PctMarriedHouseholds-8  PctMarriedHouseholds-9  \\\n",
       "0              36.9  ...            6.091992e+13            3.219988e+15   \n",
       "1              32.2  ...            1.796146e+13            8.149565e+14   \n",
       "2              44.0  ...            7.720681e+13            4.203515e+15   \n",
       "3              42.2  ...            4.592263e+13            2.343042e+15   \n",
       "4              47.8  ...            7.259662e+13            3.922211e+15   \n",
       "...             ...  ...                     ...                     ...   \n",
       "3042           41.1  ...            4.622821e+13            2.360589e+15   \n",
       "3043           29.3  ...            5.352504e+13            2.783727e+15   \n",
       "3044           30.5  ...            8.562743e+13            4.722691e+15   \n",
       "3045           36.9  ...            1.368706e+14            8.004775e+15   \n",
       "3046           25.5  ...            9.727473e+13            5.451299e+15   \n",
       "\n",
       "      BirthRate-2  BirthRate-3  BirthRate-4   BirthRate-5    BirthRate-6  \\\n",
       "0       37.440093   229.089604  1401.760576   8577.136107   52482.046553   \n",
       "1       18.775717    81.356978   352.527560   1527.535610    6618.957797   \n",
       "2       13.909079    51.873742   193.462489    721.515996    2690.885118   \n",
       "3       21.195350    97.580016   449.242856   2068.242577    9521.859503   \n",
       "4       46.194552   313.968540  2133.936595  14503.635908   98576.244063   \n",
       "...           ...          ...          ...           ...            ...   \n",
       "3042    60.427496   469.733896  3651.482299  28384.843205  220649.932786   \n",
       "3043    67.018284   548.643146  4491.450426  36769.122305  301009.301415   \n",
       "3044    60.983475   476.231643  3718.984186  29042.260362  226796.577990   \n",
       "3045    57.500955   436.026196  3306.359781  25071.922513  190118.843709   \n",
       "3046    80.671352   724.567760  6507.867086  58451.861034  524998.438556   \n",
       "\n",
       "       BirthRate-7   BirthRate-8   BirthRate-9  \n",
       "0     3.211288e+05  1.964933e+06  1.202309e+07  \n",
       "1     2.868058e+04  1.242757e+05  5.384984e+05  \n",
       "2     1.003562e+04  3.742773e+04  1.395863e+05  \n",
       "3     4.383713e+04  2.018191e+05  9.291432e+05  \n",
       "4     6.699890e+05  4.553685e+06  3.094984e+07  \n",
       "...            ...           ...           ...  \n",
       "3042  1.715225e+06  1.333332e+07  1.036468e+08  \n",
       "3043  2.464203e+06  2.017313e+07  1.651467e+08  \n",
       "3044  1.771098e+06  1.383084e+07  1.080077e+08  \n",
       "3045  1.441659e+06  1.093202e+07  8.289680e+07  \n",
       "3046  4.715391e+06  4.235233e+07  3.803969e+08  \n",
       "\n",
       "[3047 rows x 280 columns]>"
      ]
     },
     "execution_count": 1489,
     "metadata": {},
     "output_type": "execute_result"
    }
   ],
   "source": [
    "data.info"
   ]
  },
  {
   "cell_type": "code",
   "execution_count": 1490,
   "metadata": {
    "id": "31hxd3KkhuFR"
   },
   "outputs": [],
   "source": [
    "def check_nan(data):\n",
    "    return data.loc[:, data.isnull().any()].columns"
   ]
  },
  {
   "cell_type": "code",
   "execution_count": 1491,
   "metadata": {},
   "outputs": [
    {
     "data": {
      "text/plain": [
       "Index(['PctSomeCol18_24', 'PctEmployed16_Over', 'PctPrivateCoverageAlone',\n",
       "       'PctSomeCol18_24-2', 'PctSomeCol18_24-3', 'PctSomeCol18_24-4',\n",
       "       'PctSomeCol18_24-5', 'PctSomeCol18_24-6', 'PctSomeCol18_24-7',\n",
       "       'PctSomeCol18_24-8', 'PctSomeCol18_24-9', 'PctEmployed16_Over-2',\n",
       "       'PctEmployed16_Over-3', 'PctEmployed16_Over-4', 'PctEmployed16_Over-5',\n",
       "       'PctEmployed16_Over-6', 'PctEmployed16_Over-7', 'PctEmployed16_Over-8',\n",
       "       'PctEmployed16_Over-9', 'PctPrivateCoverageAlone-2',\n",
       "       'PctPrivateCoverageAlone-3', 'PctPrivateCoverageAlone-4',\n",
       "       'PctPrivateCoverageAlone-5', 'PctPrivateCoverageAlone-6',\n",
       "       'PctPrivateCoverageAlone-7', 'PctPrivateCoverageAlone-8',\n",
       "       'PctPrivateCoverageAlone-9'],\n",
       "      dtype='object')"
      ]
     },
     "execution_count": 1491,
     "metadata": {},
     "output_type": "execute_result"
    }
   ],
   "source": [
    "check_nan(data)"
   ]
  },
  {
   "cell_type": "code",
   "execution_count": 1492,
   "metadata": {
    "id": "Z0QvyK2wo2ri"
   },
   "outputs": [],
   "source": [
    "data.fillna(data.mean(), inplace = True)"
   ]
  },
  {
   "cell_type": "code",
   "execution_count": 1493,
   "metadata": {
    "colab": {
     "base_uri": "https://localhost:8080/",
     "height": 270
    },
    "id": "VckKTjoPo5zR",
    "outputId": "098cb04e-b628-4904-cff8-5026b32d7e03"
   },
   "outputs": [
    {
     "data": {
      "text/html": [
       "<div>\n",
       "<style scoped>\n",
       "    .dataframe tbody tr th:only-of-type {\n",
       "        vertical-align: middle;\n",
       "    }\n",
       "\n",
       "    .dataframe tbody tr th {\n",
       "        vertical-align: top;\n",
       "    }\n",
       "\n",
       "    .dataframe thead th {\n",
       "        text-align: right;\n",
       "    }\n",
       "</style>\n",
       "<table border=\"1\" class=\"dataframe\">\n",
       "  <thead>\n",
       "    <tr style=\"text-align: right;\">\n",
       "      <th></th>\n",
       "      <th>avgAnnCount</th>\n",
       "      <th>avgDeathsPerYear</th>\n",
       "      <th>TARGET_deathRate</th>\n",
       "      <th>incidenceRate</th>\n",
       "      <th>medIncome</th>\n",
       "      <th>popEst2015</th>\n",
       "      <th>povertyPercent</th>\n",
       "      <th>studyPerCap</th>\n",
       "      <th>MedianAge</th>\n",
       "      <th>MedianAgeMale</th>\n",
       "      <th>...</th>\n",
       "      <th>PctMarriedHouseholds-8</th>\n",
       "      <th>PctMarriedHouseholds-9</th>\n",
       "      <th>BirthRate-2</th>\n",
       "      <th>BirthRate-3</th>\n",
       "      <th>BirthRate-4</th>\n",
       "      <th>BirthRate-5</th>\n",
       "      <th>BirthRate-6</th>\n",
       "      <th>BirthRate-7</th>\n",
       "      <th>BirthRate-8</th>\n",
       "      <th>BirthRate-9</th>\n",
       "    </tr>\n",
       "  </thead>\n",
       "  <tbody>\n",
       "    <tr>\n",
       "      <th>0</th>\n",
       "      <td>1397.0</td>\n",
       "      <td>469</td>\n",
       "      <td>164.9</td>\n",
       "      <td>489.8</td>\n",
       "      <td>61898</td>\n",
       "      <td>260131</td>\n",
       "      <td>11.2</td>\n",
       "      <td>499.748204</td>\n",
       "      <td>39.3</td>\n",
       "      <td>36.9</td>\n",
       "      <td>...</td>\n",
       "      <td>6.091992e+13</td>\n",
       "      <td>3.219988e+15</td>\n",
       "      <td>37.440093</td>\n",
       "      <td>229.089604</td>\n",
       "      <td>1401.760576</td>\n",
       "      <td>8577.136107</td>\n",
       "      <td>52482.046553</td>\n",
       "      <td>321128.774915</td>\n",
       "      <td>1.964933e+06</td>\n",
       "      <td>1.202309e+07</td>\n",
       "    </tr>\n",
       "    <tr>\n",
       "      <th>1</th>\n",
       "      <td>173.0</td>\n",
       "      <td>70</td>\n",
       "      <td>161.3</td>\n",
       "      <td>411.6</td>\n",
       "      <td>48127</td>\n",
       "      <td>43269</td>\n",
       "      <td>18.6</td>\n",
       "      <td>23.111234</td>\n",
       "      <td>33.0</td>\n",
       "      <td>32.2</td>\n",
       "      <td>...</td>\n",
       "      <td>1.796146e+13</td>\n",
       "      <td>8.149565e+14</td>\n",
       "      <td>18.775717</td>\n",
       "      <td>81.356978</td>\n",
       "      <td>352.527560</td>\n",
       "      <td>1527.535610</td>\n",
       "      <td>6618.957797</td>\n",
       "      <td>28680.576760</td>\n",
       "      <td>1.242757e+05</td>\n",
       "      <td>5.384984e+05</td>\n",
       "    </tr>\n",
       "    <tr>\n",
       "      <th>2</th>\n",
       "      <td>102.0</td>\n",
       "      <td>50</td>\n",
       "      <td>174.7</td>\n",
       "      <td>349.7</td>\n",
       "      <td>49348</td>\n",
       "      <td>21026</td>\n",
       "      <td>14.6</td>\n",
       "      <td>47.560164</td>\n",
       "      <td>45.0</td>\n",
       "      <td>44.0</td>\n",
       "      <td>...</td>\n",
       "      <td>7.720681e+13</td>\n",
       "      <td>4.203515e+15</td>\n",
       "      <td>13.909079</td>\n",
       "      <td>51.873742</td>\n",
       "      <td>193.462489</td>\n",
       "      <td>721.515996</td>\n",
       "      <td>2690.885118</td>\n",
       "      <td>10035.623263</td>\n",
       "      <td>3.742773e+04</td>\n",
       "      <td>1.395863e+05</td>\n",
       "    </tr>\n",
       "    <tr>\n",
       "      <th>3</th>\n",
       "      <td>427.0</td>\n",
       "      <td>202</td>\n",
       "      <td>194.8</td>\n",
       "      <td>430.4</td>\n",
       "      <td>44243</td>\n",
       "      <td>75882</td>\n",
       "      <td>17.1</td>\n",
       "      <td>342.637253</td>\n",
       "      <td>42.8</td>\n",
       "      <td>42.2</td>\n",
       "      <td>...</td>\n",
       "      <td>4.592263e+13</td>\n",
       "      <td>2.343042e+15</td>\n",
       "      <td>21.195350</td>\n",
       "      <td>97.580016</td>\n",
       "      <td>449.242856</td>\n",
       "      <td>2068.242577</td>\n",
       "      <td>9521.859503</td>\n",
       "      <td>43837.125013</td>\n",
       "      <td>2.018191e+05</td>\n",
       "      <td>9.291432e+05</td>\n",
       "    </tr>\n",
       "    <tr>\n",
       "      <th>4</th>\n",
       "      <td>57.0</td>\n",
       "      <td>26</td>\n",
       "      <td>144.4</td>\n",
       "      <td>350.1</td>\n",
       "      <td>49955</td>\n",
       "      <td>10321</td>\n",
       "      <td>12.5</td>\n",
       "      <td>0.000000</td>\n",
       "      <td>48.3</td>\n",
       "      <td>47.8</td>\n",
       "      <td>...</td>\n",
       "      <td>7.259662e+13</td>\n",
       "      <td>3.922211e+15</td>\n",
       "      <td>46.194552</td>\n",
       "      <td>313.968540</td>\n",
       "      <td>2133.936595</td>\n",
       "      <td>14503.635908</td>\n",
       "      <td>98576.244063</td>\n",
       "      <td>669988.956897</td>\n",
       "      <td>4.553685e+06</td>\n",
       "      <td>3.094984e+07</td>\n",
       "    </tr>\n",
       "  </tbody>\n",
       "</table>\n",
       "<p>5 rows × 280 columns</p>\n",
       "</div>"
      ],
      "text/plain": [
       "   avgAnnCount  avgDeathsPerYear  TARGET_deathRate  incidenceRate  medIncome  \\\n",
       "0       1397.0               469             164.9          489.8      61898   \n",
       "1        173.0                70             161.3          411.6      48127   \n",
       "2        102.0                50             174.7          349.7      49348   \n",
       "3        427.0               202             194.8          430.4      44243   \n",
       "4         57.0                26             144.4          350.1      49955   \n",
       "\n",
       "   popEst2015  povertyPercent  studyPerCap  MedianAge  MedianAgeMale  ...  \\\n",
       "0      260131            11.2   499.748204       39.3           36.9  ...   \n",
       "1       43269            18.6    23.111234       33.0           32.2  ...   \n",
       "2       21026            14.6    47.560164       45.0           44.0  ...   \n",
       "3       75882            17.1   342.637253       42.8           42.2  ...   \n",
       "4       10321            12.5     0.000000       48.3           47.8  ...   \n",
       "\n",
       "   PctMarriedHouseholds-8  PctMarriedHouseholds-9  BirthRate-2  BirthRate-3  \\\n",
       "0            6.091992e+13            3.219988e+15    37.440093   229.089604   \n",
       "1            1.796146e+13            8.149565e+14    18.775717    81.356978   \n",
       "2            7.720681e+13            4.203515e+15    13.909079    51.873742   \n",
       "3            4.592263e+13            2.343042e+15    21.195350    97.580016   \n",
       "4            7.259662e+13            3.922211e+15    46.194552   313.968540   \n",
       "\n",
       "   BirthRate-4   BirthRate-5   BirthRate-6    BirthRate-7   BirthRate-8  \\\n",
       "0  1401.760576   8577.136107  52482.046553  321128.774915  1.964933e+06   \n",
       "1   352.527560   1527.535610   6618.957797   28680.576760  1.242757e+05   \n",
       "2   193.462489    721.515996   2690.885118   10035.623263  3.742773e+04   \n",
       "3   449.242856   2068.242577   9521.859503   43837.125013  2.018191e+05   \n",
       "4  2133.936595  14503.635908  98576.244063  669988.956897  4.553685e+06   \n",
       "\n",
       "    BirthRate-9  \n",
       "0  1.202309e+07  \n",
       "1  5.384984e+05  \n",
       "2  1.395863e+05  \n",
       "3  9.291432e+05  \n",
       "4  3.094984e+07  \n",
       "\n",
       "[5 rows x 280 columns]"
      ]
     },
     "execution_count": 1493,
     "metadata": {},
     "output_type": "execute_result"
    }
   ],
   "source": [
    "data.head()"
   ]
  },
  {
   "cell_type": "code",
   "execution_count": 1582,
   "metadata": {
    "id": "BcS6mpVwqVK_"
   },
   "outputs": [],
   "source": [
    "X = data.drop(columns = [\"TARGET_deathRate\"], axis = 1)\n",
    "Y = data[\"TARGET_deathRate\"]"
   ]
  },
  {
   "cell_type": "code",
   "execution_count": 1583,
   "metadata": {},
   "outputs": [
    {
     "data": {
      "text/plain": [
       "0       164.9\n",
       "1       161.3\n",
       "2       174.7\n",
       "3       194.8\n",
       "4       144.4\n",
       "        ...  \n",
       "3042    149.6\n",
       "3043    150.1\n",
       "3044    153.9\n",
       "3045    175.0\n",
       "3046    213.6\n",
       "Name: TARGET_deathRate, Length: 3047, dtype: float64"
      ]
     },
     "execution_count": 1583,
     "metadata": {},
     "output_type": "execute_result"
    }
   ],
   "source": [
    "Y"
   ]
  },
  {
   "cell_type": "code",
   "execution_count": 1692,
   "metadata": {
    "id": "j3JfMizUtjt4"
   },
   "outputs": [],
   "source": [
    "def normalize_data(data):\n",
    "    return data / data.max()"
   ]
  },
  {
   "cell_type": "code",
   "execution_count": 1693,
   "metadata": {
    "id": "L7KmWFneplTJ"
   },
   "outputs": [],
   "source": [
    "def split_data(X,y, percent_train):\n",
    "    X_scale = normalize_data(X)\n",
    "    X_arr = X_scale.to_numpy()\n",
    "    y_arr = y.to_numpy()\n",
    "    indices = np.arange(len(X_arr))\n",
    "    np.random.shuffle(indices)\n",
    "    train_size = int(len(indices) * percent_train)\n",
    "    X_train, X_test = X_arr[:train_size] , X_arr[train_size:]\n",
    "    y_train, y_test = y_arr[:train_size] , y_arr[train_size:]\n",
    "    return X_train, y_train, X_test, y_test"
   ]
  },
  {
   "cell_type": "code",
   "execution_count": null,
   "metadata": {},
   "outputs": [],
   "source": []
  },
  {
   "cell_type": "code",
   "execution_count": 1694,
   "metadata": {},
   "outputs": [],
   "source": [
    "# def split_data(X,y, percent_train):\n",
    "    \n",
    "#     X_arr = X.to_numpy()\n",
    "#     y_arr = y.to_numpy()\n",
    "    \n",
    "    \n",
    "#     indices = np.arange(len(X_arr))\n",
    "#     np.random.shuffle(indices)\n",
    "   \n",
    "#     X_arr= X_arr[indices]\n",
    "#     y_arr = y_arr[indices]\n",
    "    \n",
    "#     X_arr = X_arr /X_arr.max(axis = 0)\n",
    "\n",
    "    \n",
    "#     train_size = int(len(indices) * percent_train)\n",
    "    \n",
    "   \n",
    "    \n",
    "#     X_train, X_test = X_arr[:train_size] , X_arr[train_size:]\n",
    "#     y_train, y_test = y_arr[:train_size], y_arr[train_size:]\n",
    "#     return X_train, y_train, X_test, y_test"
   ]
  },
  {
   "cell_type": "code",
   "execution_count": 1695,
   "metadata": {
    "colab": {
     "base_uri": "https://localhost:8080/"
    },
    "id": "CbX4aXgiplXd",
    "outputId": "f44e17e1-9aaa-4b5e-aeb4-c5928883981a"
   },
   "outputs": [],
   "source": [
    "X_train, y_train, X_test, y_test  = split_data(X,Y, 0.2)"
   ]
  },
  {
   "cell_type": "code",
   "execution_count": null,
   "metadata": {
    "scrolled": false
   },
   "outputs": [],
   "source": []
  },
  {
   "cell_type": "markdown",
   "metadata": {},
   "source": [
    "### Using BGD"
   ]
  },
  {
   "cell_type": "markdown",
   "metadata": {
    "id": "hSUAkbjRtR4P"
   },
   "source": [
    "### Linear Regression model"
   ]
  },
  {
   "cell_type": "code",
   "execution_count": 1696,
   "metadata": {},
   "outputs": [],
   "source": [
    "class LinearRegression:\n",
    "    def __init__(self, lr = 0.001, n_iters = 1000, l1 = 0.1, l2 = 0.2):\n",
    "        self.lr = lr\n",
    "        self.n_iters = n_iters\n",
    "        self.l1 = l1\n",
    "        self.l2 = l2\n",
    "        \n",
    "    def fit(self, X, y):\n",
    "        # init our weights\n",
    "        n_samples, n_features = X.shape\n",
    "        self.theta = np.zeros(n_features)\n",
    "        costs = []\n",
    "        for _ in range(self.n_iters):\n",
    "            gradient = X.T @ (X @ self.theta - y)\n",
    "            self.theta  = self.theta - self.lr * gradient\n",
    "            costs.append(self.MSE(X @ self.theta, y))\n",
    "        return costs\n",
    "    \n",
    "    def predict(self, X):\n",
    "        y_pred = X @ self.theta\n",
    "        return y_pred\n",
    "        \n",
    "    def MSE(self, y_pred,y):\n",
    "        return np.sum((y_pred - y)**2) / len(y) #/ len(y) # np.mean((y_predict-y)**2)"
   ]
  },
  {
   "cell_type": "code",
   "execution_count": 1697,
   "metadata": {},
   "outputs": [],
   "source": [
    "model = LinearRegression(lr = 0.0001, n_iters = 10000, l1 = 0.0, l2 = 0.0)"
   ]
  },
  {
   "cell_type": "code",
   "execution_count": 1698,
   "metadata": {},
   "outputs": [],
   "source": [
    "cost = model.fit(X_train,y_train)"
   ]
  },
  {
   "cell_type": "code",
   "execution_count": 1699,
   "metadata": {},
   "outputs": [
    {
     "data": {
      "text/plain": [
       "302.6881925351214"
      ]
     },
     "execution_count": 1699,
     "metadata": {},
     "output_type": "execute_result"
    }
   ],
   "source": [
    "cost[-1]"
   ]
  },
  {
   "cell_type": "code",
   "execution_count": 1700,
   "metadata": {},
   "outputs": [
    {
     "data": {
      "text/plain": [
       "[<matplotlib.lines.Line2D at 0x7fb682750d90>]"
      ]
     },
     "execution_count": 1700,
     "metadata": {},
     "output_type": "execute_result"
    },
    {
     "data": {
      "image/png": "[encoded data removed]",
      "text/plain": [
       "<Figure size 432x288 with 1 Axes>"
      ]
     },
     "metadata": {
      "needs_background": "light"
     },
     "output_type": "display_data"
    }
   ],
   "source": [
    "plt.plot(np.arange(len(cost)), cost)"
   ]
  },
  {
   "cell_type": "code",
   "execution_count": 1701,
   "metadata": {},
   "outputs": [
    {
     "data": {
      "text/plain": [
       "array([169.8497845 , 165.58756316, 168.54516483, ..., 162.47494141,\n",
       "       173.92326626, 174.55313663])"
      ]
     },
     "execution_count": 1701,
     "metadata": {},
     "output_type": "execute_result"
    }
   ],
   "source": [
    "y_pred = model.predict(X_test)\n",
    "y_pred"
   ]
  },
  {
   "cell_type": "code",
   "execution_count": 1702,
   "metadata": {},
   "outputs": [
    {
     "data": {
      "text/plain": [
       "453.3523705650347"
      ]
     },
     "execution_count": 1702,
     "metadata": {},
     "output_type": "execute_result"
    }
   ],
   "source": [
    "model.MSE(y_pred,y_test)"
   ]
  },
  {
   "cell_type": "markdown",
   "metadata": {},
   "source": [
    "##### Linear Regression with regularization"
   ]
  },
  {
   "cell_type": "code",
   "execution_count": 1703,
   "metadata": {},
   "outputs": [],
   "source": [
    "class LinearRegression_Reg:\n",
    "    def __init__(self, lr = 0.001, n_iters = 1000, l1 = .01, l2 = 0.2):\n",
    "        self.lr = lr\n",
    "        self.n_iters = n_iters\n",
    "        self.l1 = l1\n",
    "        self.l2 = l2\n",
    "        \n",
    "    def fit(self, X, y):\n",
    "        # init our weights\n",
    "        n_samples, n_features = X.shape\n",
    "        self.theta = np.zeros(n_features)\n",
    "        costs = []\n",
    "        \n",
    "        for _ in range(self.n_iters):\n",
    "            l1_norm_grad = ((self.theta > 0).astype(float) * 2 - 1) * self.l1\n",
    "            l2_norm_grad = self.theta * self.l2\n",
    "            \n",
    "            gradient = X.T @ (X @ self.theta - y) + l1_norm_grad + l2_norm_grad\n",
    "            \n",
    "            #gradient = (X.T @ X + self.l1 * np.identity(X.shape[1])) @ self.theta - X.T @ y\n",
    "            self.theta  = self.theta - self.lr * gradient\n",
    "            costs.append(self.MSE(X @ self.theta, y))\n",
    "        return costs\n",
    "    \n",
    "    def predict(self, X):\n",
    "        y_pred = X @ self.theta\n",
    "        return y_pred\n",
    "        \n",
    "    def MSE(self, y_pred,y):\n",
    "        return np.sum((y_pred-y)**2) / len(y) # np.mean((y_predict-y)**2)"
   ]
  },
  {
   "cell_type": "code",
   "execution_count": null,
   "metadata": {},
   "outputs": [],
   "source": []
  },
  {
   "cell_type": "code",
   "execution_count": 1704,
   "metadata": {},
   "outputs": [],
   "source": [
    "model = LinearRegression_Reg(lr = 0.0001, n_iters = 10000, l1 =0.9, l2 = 0)"
   ]
  },
  {
   "cell_type": "code",
   "execution_count": 1705,
   "metadata": {},
   "outputs": [
    {
     "data": {
      "text/plain": [
       "303.6372394176419"
      ]
     },
     "execution_count": 1705,
     "metadata": {},
     "output_type": "execute_result"
    }
   ],
   "source": [
    "costs = model.fit(X_train, y_train)\n",
    "costs[-1]"
   ]
  },
  {
   "cell_type": "code",
   "execution_count": 1706,
   "metadata": {},
   "outputs": [
    {
     "data": {
      "text/plain": [
       "[<matplotlib.lines.Line2D at 0x7fb6827b00d0>]"
      ]
     },
     "execution_count": 1706,
     "metadata": {},
     "output_type": "execute_result"
    },
    {
     "data": {
      "image/png": "[encoded data removed]",
      "text/plain": [
       "<Figure size 432x288 with 1 Axes>"
      ]
     },
     "metadata": {
      "needs_background": "light"
     },
     "output_type": "display_data"
    }
   ],
   "source": [
    "plt.plot(np.arange(len(costs)),costs)"
   ]
  },
  {
   "cell_type": "code",
   "execution_count": 1707,
   "metadata": {},
   "outputs": [
    {
     "data": {
      "text/plain": [
       "array([169.84496197, 165.39447586, 168.56031445, ..., 162.54858974,\n",
       "       173.84528463, 174.41859289])"
      ]
     },
     "execution_count": 1707,
     "metadata": {},
     "output_type": "execute_result"
    }
   ],
   "source": [
    "y_pred = model.predict(X_test)\n",
    "y_pred"
   ]
  },
  {
   "cell_type": "code",
   "execution_count": 1708,
   "metadata": {},
   "outputs": [
    {
     "data": {
      "text/plain": [
       "451.3978448177836"
      ]
     },
     "execution_count": 1708,
     "metadata": {},
     "output_type": "execute_result"
    }
   ],
   "source": [
    "model.MSE(y_pred, y_test)"
   ]
  },
  {
   "cell_type": "code",
   "execution_count": 1709,
   "metadata": {
    "scrolled": false
   },
   "outputs": [],
   "source": [
    "import random"
   ]
  },
  {
   "cell_type": "markdown",
   "metadata": {},
   "source": [
    "### Using SGD"
   ]
  },
  {
   "cell_type": "code",
   "execution_count": 2074,
   "metadata": {},
   "outputs": [],
   "source": [
    "class LR_SGD_Reg:\n",
    "    def __init__(self, lr = 0.001, n_iters = 1000, l1 = 0.9, l2 = 0.5):\n",
    "        self.lr = lr\n",
    "        self.n_iters = n_iters\n",
    "        self.l1 = l1\n",
    "        self.l2 = l2\n",
    "        \n",
    "    def fit(self, X,y):\n",
    "        n, d = X.shape\n",
    "        # init theta\n",
    "        self.theta = np.zeros(d)\n",
    "        costs = []\n",
    "        #n_iters_list = []\n",
    "        for i in range(self.n_iters):\n",
    "            random_index = random.randint(0,n-1)\n",
    "            X_sample = X[random_index]\n",
    "            y_sample = y[random_index]\n",
    "            l1_norm_grad = ((self.theta > 0).astype(float) * 2 - 1) * self.l1\n",
    "            l2_norm_grad = self.theta * self.l2\n",
    "            gradient = X_sample.T @ (X_sample @ self.theta - y_sample * np.identity(d)) + l1_norm_grad + l2_norm_grad\n",
    "            self.theta = self.theta - self.lr * gradient\n",
    "            cost = self.MSE(X_sample @ self.theta, y_sample * np.identity(d))\n",
    "            #cost = np.sum((X_sample @ self.theta - y_sample * np.identity(d))**2) / len(y_sample * np.identity(d))\n",
    "            costs.append(cost)\n",
    "            #if i%100 == 0 :\n",
    "              #  costs.append(cost)\n",
    "              #  n_iters_list.append(i)\n",
    "        return costs #, self.theta #, n_iters_list\n",
    "                   \n",
    "    def predict(self,X):\n",
    "        return X @ self.theta\n",
    "    \n",
    "    def MSE(self, yh, y):\n",
    "        return np.sum((yh - y)**2) / len(y)"
   ]
  },
  {
   "cell_type": "code",
   "execution_count": 2075,
   "metadata": {},
   "outputs": [],
   "source": [
    "model = LR_SGD_Reg(lr = 1e-6, n_iters = 100, l1 = 0, l2 = 0)"
   ]
  },
  {
   "cell_type": "code",
   "execution_count": 2076,
   "metadata": {
    "scrolled": true
   },
   "outputs": [
    {
     "data": {
      "text/plain": [
       "36338.882023259284"
      ]
     },
     "execution_count": 2076,
     "metadata": {},
     "output_type": "execute_result"
    }
   ],
   "source": [
    "cost = model.fit(X_train, y_train)\n",
    "cost[-1]"
   ]
  },
  {
   "cell_type": "code",
   "execution_count": 2077,
   "metadata": {},
   "outputs": [
    {
     "data": {
      "text/plain": [
       "[<matplotlib.lines.Line2D at 0x7fb6776f3df0>]"
      ]
     },
     "execution_count": 2077,
     "metadata": {},
     "output_type": "execute_result"
    },
    {
     "data": {
      "image/png": "[encoded data removed]",
      "text/plain": [
       "<Figure size 432x288 with 1 Axes>"
      ]
     },
     "metadata": {
      "needs_background": "light"
     },
     "output_type": "display_data"
    }
   ],
   "source": [
    "plt.plot(np.arange(len(cost)),cost)"
   ]
  },
  {
   "cell_type": "code",
   "execution_count": 2078,
   "metadata": {},
   "outputs": [
    {
     "data": {
      "text/plain": [
       "array([0.24651765, 0.22256727, 0.2010838 , ..., 0.21978685, 0.24958218,\n",
       "       0.19549152])"
      ]
     },
     "execution_count": 2078,
     "metadata": {},
     "output_type": "execute_result"
    }
   ],
   "source": [
    "y_h = model.predict(X_test)\n",
    "y_h"
   ]
  },
  {
   "cell_type": "code",
   "execution_count": 2079,
   "metadata": {},
   "outputs": [
    {
     "data": {
      "text/plain": [
       "32673.23358926567"
      ]
     },
     "execution_count": 2079,
     "metadata": {},
     "output_type": "execute_result"
    }
   ],
   "source": [
    "model.MSE(y_h, y_test)"
   ]
  },
  {
   "cell_type": "code",
   "execution_count": 1978,
   "metadata": {},
   "outputs": [
    {
     "data": {
      "text/plain": [
       "array([140.9, 151.2, 171.7, ..., 153.9, 175. , 213.6])"
      ]
     },
     "execution_count": 1978,
     "metadata": {},
     "output_type": "execute_result"
    }
   ],
   "source": [
    "y_test"
   ]
  },
  {
   "cell_type": "markdown",
   "metadata": {},
   "source": [
    "### Using MBGD"
   ]
  },
  {
   "cell_type": "code",
   "execution_count": 2220,
   "metadata": {},
   "outputs": [],
   "source": [
    "class LR_MBGD:\n",
    "    \n",
    "    def __init__(self, lr = 0.001, epochs = 1000, batch_size = 32):\n",
    "        self.lr = lr\n",
    "        self.epochs = epochs     \n",
    "        self.batch_size = batch_size\n",
    "    \n",
    "    def fit(self,X,y):\n",
    "        n, d = X.shape\n",
    "        no_epochs = n // self.batch_size\n",
    "        # init theta\n",
    "        self.theta = np.zeros(d)\n",
    "        costs = []\n",
    "        for i in range(no_epochs - 1):\n",
    "            # a batch example of the dataset\n",
    "            x_b = X[i * self.batch_size : (i+1) * self.batch_size, :]\n",
    "            #print(x_b.shape)\n",
    "            y_b = y[i * self.batch_size : (i+1) * self.batch_size]\n",
    "            #print(y_b.shape)\n",
    "            # compute the gradient\n",
    "            gradient = x_b.T @ (x_b @ self.theta - y_b)\n",
    "            \n",
    "            # updates of theta\n",
    "            self.theta -= self.lr * gradient\n",
    "            \n",
    "            costs.append(self.MSE(x_b @ self.theta, y_b))\n",
    "        return costs\n",
    "    \n",
    "    def predict(self,X):\n",
    "        return X @ self.theta\n",
    "    \n",
    "    def MSE(self, yh, y):\n",
    "        n = len(y)\n",
    "        return np.sum((yh - y)**2) / n"
   ]
  },
  {
   "cell_type": "code",
   "execution_count": 2221,
   "metadata": {
    "id": "dn-nMygTplo6"
   },
   "outputs": [],
   "source": [
    "model = LR_MBGD(lr = 1e-6, epochs = 10000, batch_size=40)"
   ]
  },
  {
   "cell_type": "code",
   "execution_count": 2222,
   "metadata": {
    "id": "QIBFTch-plta",
    "scrolled": true
   },
   "outputs": [
    {
     "data": {
      "text/plain": [
       "40522.91287171112"
      ]
     },
     "execution_count": 2222,
     "metadata": {},
     "output_type": "execute_result"
    }
   ],
   "source": [
    "cost = model.fit(X_train, y_train)\n",
    "cost[-1]"
   ]
  },
  {
   "cell_type": "code",
   "execution_count": 2223,
   "metadata": {},
   "outputs": [
    {
     "data": {
      "text/plain": [
       "[<matplotlib.lines.Line2D at 0x7fb678109d90>]"
      ]
     },
     "execution_count": 2223,
     "metadata": {},
     "output_type": "execute_result"
    },
    {
     "data": {
      "image/png": "[encoded data removed]",
      "text/plain": [
       "<Figure size 432x288 with 1 Axes>"
      ]
     },
     "metadata": {
      "needs_background": "light"
     },
     "output_type": "display_data"
    }
   ],
   "source": [
    "plt.plot(np.arange(len(cost)),cost)"
   ]
  },
  {
   "cell_type": "code",
   "execution_count": 2224,
   "metadata": {
    "id": "fcyPL6F1plxi"
   },
   "outputs": [
    {
     "data": {
      "text/plain": [
       "array([1.42071927, 1.2989942 , 1.15879993, ..., 1.28374188, 1.46044206,\n",
       "       1.12483068])"
      ]
     },
     "execution_count": 2224,
     "metadata": {},
     "output_type": "execute_result"
    }
   ],
   "source": [
    "y_h = model.predict(X_test)\n",
    "y_h"
   ]
  },
  {
   "cell_type": "code",
   "execution_count": 2225,
   "metadata": {
    "id": "rGFfAfCfpl16"
   },
   "outputs": [
    {
     "data": {
      "text/plain": [
       "32289.65424602315"
      ]
     },
     "execution_count": 2225,
     "metadata": {},
     "output_type": "execute_result"
    }
   ],
   "source": [
    "model.MSE(y_h,y_test)"
   ]
  },
  {
   "cell_type": "code",
   "execution_count": null,
   "metadata": {},
   "outputs": [],
   "source": []
  }
 ],
 "metadata": {
  "colab": {
   "collapsed_sections": [],
   "name": "Copy of Feature Selection with L1 regularization.ipynb",
   "provenance": [],
   "toc_visible": true
  },
  "kernelspec": {
   "display_name": "Python 3",
   "language": "python",
   "name": "python3"
  },
  "language_info": {
   "codemirror_mode": {
    "name": "ipython",
    "version": 3
   },
   "file_extension": ".py",
   "mimetype": "text/x-python",
   "name": "python",
   "nbconvert_exporter": "python",
   "pygments_lexer": "ipython3",
   "version": "3.8.5"
  }
 },
 "nbformat": 4,
 "nbformat_minor": 1
}
